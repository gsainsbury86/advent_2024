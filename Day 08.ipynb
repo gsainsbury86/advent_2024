{
 "cells": [
  {
   "cell_type": "code",
   "id": "initial_id",
   "metadata": {
    "collapsed": true,
    "ExecuteTime": {
     "end_time": "2024-12-08T05:02:02.742710Z",
     "start_time": "2024-12-08T05:02:01.641389Z"
    }
   },
   "source": [
    "import pathlib\n",
    "import requests\n",
    "\n",
    "year = 2024\n",
    "day = 8\n",
    "\n",
    "url = f\"https://adventofcode.com/{year}/day/{day}/input\"\n",
    "\n",
    "with open(\"cookie.txt\", \"r\") as file:\n",
    "    session = file.read()\n",
    "\n",
    "headers = {\"cookie\": f\"session={session}\"}\n",
    "\n",
    "pathlib.Path('inputs').mkdir(parents=True, exist_ok=True)\n",
    "\n",
    "with open(f\"inputs/day_{str(day).zfill(2)}_input.txt\", \"wb\") as file:\n",
    "    file.write(requests.get(url, headers=headers).content)\n"
   ],
   "outputs": [],
   "execution_count": 1
  },
  {
   "metadata": {
    "ExecuteTime": {
     "end_time": "2024-12-08T05:02:02.760714Z",
     "start_time": "2024-12-08T05:02:02.750721Z"
    }
   },
   "cell_type": "code",
   "source": [
    "lines = [x for x in open(f\"inputs/day_{str(day).zfill(2)}_input.txt\", \"r\")]\n",
    "aoc = \"\".join(lines)\n",
    "print(lines[:5])"
   ],
   "id": "bd8b6589e133ad5b",
   "outputs": [
    {
     "name": "stdout",
     "output_type": "stream",
     "text": [
      "['....................8.D.........Y...........c.....\\n', '....f.............D......O...........Y............\\n', '.......z..........7.N..........g..................\\n', '..........h...........9g.7....................Y...\\n', '.............8...............................c....\\n']\n"
     ]
    }
   ],
   "execution_count": 2
  },
  {
   "metadata": {
    "ExecuteTime": {
     "end_time": "2024-12-08T08:05:07.292179Z",
     "start_time": "2024-12-08T08:05:07.285292Z"
    }
   },
   "cell_type": "code",
   "source": [
    "test = \"\"\"............\n",
    "........0...\n",
    ".....0......\n",
    ".......0....\n",
    "....0.......\n",
    "......A.....\n",
    "............\n",
    "............\n",
    "........A...\n",
    ".........A..\n",
    "............\n",
    "............\"\"\"\n",
    "\n",
    "test_lines = test.split(\"\\n\")\n",
    "\n",
    "G = [x.strip() for x in [line for line in lines]]\n",
    "\n",
    "from collections import defaultdict\n",
    "\n",
    "antenna_locs = defaultdict(list)\n",
    "\n",
    "for r in range(len(G)):\n",
    "    for c in range(len(G[0])):\n",
    "        if G[r][c] != '.' and G[r][c] != '#':\n",
    "            antenna_locs[G[r][c]].append((r,c))\n",
    "\n",
    "\n",
    "# for each pair of antenna, there is a possible antinode only if they're on a line.\n",
    "# and that location is the distance away from it.\n",
    "\n",
    "antinode_locs = set({})\n",
    "for f, locs in antenna_locs.items():\n",
    "    for loc1 in locs:\n",
    "        for loc2 in locs:\n",
    "            if loc1 == loc2:\n",
    "                continue\n",
    "            else:\n",
    "                dist_r =    loc2[0] - loc1[0]\n",
    "                dist_c =    loc2[1] - loc1[1]\n",
    "                possible_an1 = (loc1[0] + dist_r, loc1[1] + dist_c)\n",
    "                possible_an2 = (loc2[0] + dist_r, loc2[1] + dist_c)\n",
    "                if possible_an1 != loc1 and possible_an1 != loc2 and 0 <= possible_an1[0] < len(G) and 0 <= possible_an1[1] < len(G[0]):\n",
    "                    antinode_locs.add(possible_an1)\n",
    "                if possible_an2 != loc1 and possible_an2 != loc2 and 0 <= possible_an2[0] < len(G) and 0 <= possible_an2[1] < len(G[0]):\n",
    "                    antinode_locs.add(possible_an2)\n",
    "\n",
    "print(len(antinode_locs))\n"
   ],
   "id": "a22a3271124041d6",
   "outputs": [
    {
     "name": "stdout",
     "output_type": "stream",
     "text": [
      "394\n"
     ]
    }
   ],
   "execution_count": 51
  },
  {
   "metadata": {
    "ExecuteTime": {
     "end_time": "2024-12-08T08:04:44.557150Z",
     "start_time": "2024-12-08T08:04:44.523272Z"
    }
   },
   "cell_type": "code",
   "source": [
    "test = \"\"\"............\n",
    "........0...\n",
    ".....0......\n",
    ".......0....\n",
    "....0.......\n",
    "......A.....\n",
    "............\n",
    "............\n",
    "........A...\n",
    ".........A..\n",
    "............\n",
    "............\"\"\"\n",
    "\n",
    "test_lines = test.split(\"\\n\")\n",
    "\n",
    "G = [x.strip() for x in [line for line in lines]]\n",
    "\n",
    "from collections import defaultdict\n",
    "\n",
    "antenna_locs = defaultdict(list)\n",
    "\n",
    "for r in range(len(G)):\n",
    "    for c in range(len(G[0])):\n",
    "        if G[r][c] != '.' and G[r][c] != '#':\n",
    "            antenna_locs[G[r][c]].append((r,c))\n",
    "\n",
    "\n",
    "# for each pair of antenna, there is a possible antinode only if they're on a line.\n",
    "# and that location is the distance away from it.\n",
    "\n",
    "antinode_locs = set({})\n",
    "for f, locs in antenna_locs.items():\n",
    "    for loc1 in locs:\n",
    "        for loc2 in locs:\n",
    "            if loc1 == loc2:\n",
    "                continue\n",
    "            else:\n",
    "                for i in range(50):\n",
    "                    dist_r =    loc2[0] - loc1[0]\n",
    "                    dist_c =    loc2[1] - loc1[1]\n",
    "                    possible_an1 = (loc1[0] + i*dist_r, loc1[1] + i*dist_c)\n",
    "                    possible_an2 = (loc2[0] + i*dist_r, loc2[1] + i*dist_c)\n",
    "                    if 0 <= possible_an1[0] < len(G) and 0 <= possible_an1[1] < len(G[0]):\n",
    "                        antinode_locs.add(possible_an1)\n",
    "                    if 0 <= possible_an2[0] < len(G) and 0 <= possible_an2[1] < len(G[0]):\n",
    "                        antinode_locs.add(possible_an2)\n",
    "\n",
    "print(len(antinode_locs))\n"
   ],
   "id": "1a8ab5f43fe12d9f",
   "outputs": [
    {
     "name": "stdout",
     "output_type": "stream",
     "text": [
      "1277\n"
     ]
    }
   ],
   "execution_count": 50
  }
 ],
 "metadata": {
  "kernelspec": {
   "display_name": "Python 3",
   "language": "python",
   "name": "python3"
  },
  "language_info": {
   "codemirror_mode": {
    "name": "ipython",
    "version": 2
   },
   "file_extension": ".py",
   "mimetype": "text/x-python",
   "name": "python",
   "nbconvert_exporter": "python",
   "pygments_lexer": "ipython2",
   "version": "2.7.6"
  }
 },
 "nbformat": 4,
 "nbformat_minor": 5
}
