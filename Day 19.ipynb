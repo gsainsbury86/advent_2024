{
 "cells": [
  {
   "cell_type": "code",
   "id": "initial_id",
   "metadata": {
    "collapsed": true,
    "ExecuteTime": {
     "end_time": "2024-12-19T05:22:55.095010Z",
     "start_time": "2024-12-19T05:22:55.077012Z"
    }
   },
   "source": [
    "from aoc import *\n",
    "from copy import deepcopy\n",
    "from collections import defaultdict, Counter, deque\n",
    "import re\n",
    "from z3 import Ints, Solver, sat\n",
    "from tqdm import tqdm\n",
    "\n",
    "year = 2024\n",
    "day = 19\n",
    "\n",
    "download_input(year, day)"
   ],
   "outputs": [],
   "execution_count": 53
  },
  {
   "metadata": {
    "ExecuteTime": {
     "end_time": "2024-12-19T05:00:07.064807Z",
     "start_time": "2024-12-19T05:00:07.053782Z"
    }
   },
   "cell_type": "code",
   "source": "aoc, lines, G, R, C = read_input(day, test=False)",
   "id": "df091e6820ae8af8",
   "outputs": [
    {
     "name": "stdout",
     "output_type": "stream",
     "text": [
      "['bwwugggguwrrbuuwuwwwrgbrwbwgrbwrbrbggugbguggbwgrwurrr', 'buwubbwbrgbrgbwwuwwrrwbbgwbwgrwubggrrrurwwg', 'gwwrrwbbrrrruwuugbbwrbbbbrgbwgburuguugbrrrrw', 'uuwgbgrgrrgbbggguwgggbgwbrwbbggrugrrbgrrw', 'grrrwgwbguwbbwbgwguurgbwwrugggwrbbuburrwugbgwuu']\n",
      "1 2902\n"
     ]
    }
   ],
   "execution_count": 2
  },
  {
   "metadata": {
    "ExecuteTime": {
     "end_time": "2024-12-19T05:22:06.629445Z",
     "start_time": "2024-12-19T05:22:06.625106Z"
    }
   },
   "cell_type": "code",
   "source": [
    "inputs = aoc.split(\"\\n\")\n",
    "towels = [x.strip() for x in inputs[0].split(\",\")]\n",
    "\n",
    "patterns = inputs[2:]"
   ],
   "id": "74751f2961d4afcf",
   "outputs": [],
   "execution_count": 51
  },
  {
   "metadata": {
    "ExecuteTime": {
     "end_time": "2024-12-19T06:06:39.225893Z",
     "start_time": "2024-12-19T06:06:25.492708Z"
    }
   },
   "cell_type": "code",
   "source": [
    "# find towels that can be made by towels.\n",
    "\n",
    "inputs = aoc.split(\"\\n\")\n",
    "towels = [x.strip() for x in inputs[0].split(\",\")]\n",
    "\n",
    "patterns = inputs[2:]\n",
    "\n",
    "composite_towels = []\n",
    "\n",
    "for i, pattern in enumerate(towels):\n",
    "\n",
    "    Q = deque([(pattern, pattern, \"\", [])])\n",
    "\n",
    "    while Q:\n",
    "        test, remaining, built, list_of_towels = Q.popleft()\n",
    "        if test == built:\n",
    "            composite_towels.append(pattern)\n",
    "            break\n",
    "\n",
    "        for towel in towels:\n",
    "            if towel == towels[i]:\n",
    "                continue\n",
    "            if remaining.startswith(towel):\n",
    "                next_state = (\n",
    "                    test,\n",
    "                    remaining[len(towel) :],\n",
    "                    built + towel,\n",
    "                    list_of_towels + [towel],\n",
    "                )\n",
    "                Q.append(next_state)\n",
    "\n",
    "ans = 0\n",
    "DP = {}\n",
    "\n",
    "\n",
    "def get_next_state(r):\n",
    "\n",
    "    if r in DP:\n",
    "        return DP[r]\n",
    "\n",
    "    to_return = []\n",
    "\n",
    "    for towel in [t for t in towels if not t in composite_towels]:\n",
    "        if r.startswith(towel):\n",
    "            next_state = r[len(towel) :]\n",
    "            to_return.append(next_state)\n",
    "\n",
    "    DP[r] = to_return\n",
    "\n",
    "    return to_return\n",
    "\n",
    "\n",
    "for i, pattern in enumerate(patterns):\n",
    "\n",
    "    Q = deque([(pattern)])\n",
    "    found = False\n",
    "\n",
    "    while Q:\n",
    "        remaining = Q.popleft()\n",
    "\n",
    "        lons = get_next_state(remaining)\n",
    "        for rr in lons:\n",
    "            if rr == \"\":\n",
    "                ans += 1\n",
    "                found = True\n",
    "                break\n",
    "            else:\n",
    "                Q.append((rr))\n",
    "\n",
    "        if found:\n",
    "            break\n",
    "\n",
    "print(ans)"
   ],
   "id": "4f3d71fe3f940d51",
   "outputs": [
    {
     "name": "stdout",
     "output_type": "stream",
     "text": [
      "293\n"
     ]
    }
   ],
   "execution_count": 135
  },
  {
   "metadata": {
    "ExecuteTime": {
     "end_time": "2024-12-19T06:06:42.809096Z",
     "start_time": "2024-12-19T06:06:42.005454Z"
    }
   },
   "cell_type": "code",
   "source": [
    "inputs = aoc.split(\"\\n\")\n",
    "towels = [x.strip() for x in inputs[0].split(\",\")]\n",
    "\n",
    "patterns = inputs[2:]\n",
    "\n",
    "DP = {}\n",
    "\n",
    "\n",
    "def get_next_state(r):\n",
    "\n",
    "    if r == \"\":\n",
    "        return 1\n",
    "\n",
    "    if r in DP:\n",
    "        return DP[r]\n",
    "\n",
    "    to_return = 0\n",
    "\n",
    "    for t in towels:\n",
    "        if r.startswith(t):\n",
    "            to_return += get_next_state((r[len(t) :]))\n",
    "\n",
    "    DP[r] = to_return\n",
    "\n",
    "    return to_return\n",
    "\n",
    "\n",
    "ans = defaultdict(int)\n",
    "\n",
    "for i, pattern in enumerate(patterns):\n",
    "\n",
    "    ans[i] = get_next_state(pattern)\n",
    "\n",
    "print(len([k for k, v in ans.items() if v > 0]))\n",
    "print(sum(ans.values()))"
   ],
   "id": "49cde8ff0d1c59f",
   "outputs": [
    {
     "name": "stdout",
     "output_type": "stream",
     "text": [
      "293\n",
      "623924810770264\n"
     ]
    }
   ],
   "execution_count": 136
  }
 ],
 "metadata": {
  "kernelspec": {
   "display_name": "Python 3",
   "language": "python",
   "name": "python3"
  },
  "language_info": {
   "codemirror_mode": {
    "name": "ipython",
    "version": 2
   },
   "file_extension": ".py",
   "mimetype": "text/x-python",
   "name": "python",
   "nbconvert_exporter": "python",
   "pygments_lexer": "ipython2",
   "version": "2.7.6"
  }
 },
 "nbformat": 4,
 "nbformat_minor": 5
}
