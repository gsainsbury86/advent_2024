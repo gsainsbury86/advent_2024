{
 "cells": [
  {
   "cell_type": "code",
   "id": "initial_id",
   "metadata": {
    "collapsed": true,
    "ExecuteTime": {
     "end_time": "2024-12-06T05:11:21.910158Z",
     "start_time": "2024-12-06T05:11:20.723042Z"
    }
   },
   "source": [
    "import pathlib\n",
    "import requests\n",
    "\n",
    "year = 2024\n",
    "day = 6\n",
    "\n",
    "url = f\"https://adventofcode.com/{year}/day/{day}/input\"\n",
    "\n",
    "with open(\"cookie.txt\", \"r\") as file:\n",
    "    session = file.read()\n",
    "\n",
    "headers = {\"cookie\": f\"session={session}\"}\n",
    "\n",
    "pathlib.Path(\"inputs\").mkdir(parents=True, exist_ok=True)\n",
    "\n",
    "with open(f\"inputs/day_{str(day).zfill(2)}_input.txt\", \"wb\") as file:\n",
    "    file.write(requests.get(url, headers=headers).content)"
   ],
   "outputs": [],
   "execution_count": 1
  },
  {
   "metadata": {
    "ExecuteTime": {
     "end_time": "2024-12-06T06:00:49.559508Z",
     "start_time": "2024-12-06T06:00:49.555776Z"
    }
   },
   "cell_type": "code",
   "source": [
    "lines = [x for x in open(f\"inputs/day_{str(day).zfill(2)}_input.txt\", \"r\")]\n",
    "aoc = \"\".join(lines)\n",
    "print(lines[:5])"
   ],
   "id": "3b503f222f2f6f",
   "outputs": [
    {
     "name": "stdout",
     "output_type": "stream",
     "text": [
      "['......#...........#..............................#..............................#...........................##...............#....\\n', '.............#..............#........#......##...................................................#............##...#..........#...\\n', '...#..................#..............#.........#...#.........................................................................#..#.\\n', '.....#..........#...................#.....................#..........#...........#......#..#...................#..................\\n', '...#...............................................##..................#............#.....#...................#...................\\n']\n"
     ]
    }
   ],
   "execution_count": 73
  },
  {
   "metadata": {
    "ExecuteTime": {
     "end_time": "2024-12-06T05:45:28.820895Z",
     "start_time": "2024-12-06T05:45:28.810157Z"
    }
   },
   "cell_type": "code",
   "source": [
    "# test = \"\"\"....#.....\n",
    "# .........#\n",
    "# ..........\n",
    "# ..#.......\n",
    "# .......#..\n",
    "# ..........\n",
    "# .#..^.....\n",
    "# ........#.\n",
    "# #.........\n",
    "# ......#...\"\"\"\n",
    "#\n",
    "# lines = test.split()\n",
    "\n",
    "G = []\n",
    "\n",
    "# start = (0,0)\n",
    "\n",
    "for r, line in enumerate(lines):\n",
    "    if \"^\" in line:\n",
    "        start = (r, line.index(\"^\"))\n",
    "        line = line.replace(\"^\", \".\")\n",
    "\n",
    "    G.append([x for x in line])\n",
    "\n",
    "\n",
    "def move(pos, direction):\n",
    "    if pos[0] >= len(G) or pos[1] >= len(G[0]) or pos[1] < 0 or pos[1] < 0:\n",
    "        print(\"edge\", pos, direction)\n",
    "        return None, None\n",
    "\n",
    "    dirn = direction\n",
    "    posn = pos\n",
    "\n",
    "    if direction == \"^\":\n",
    "        if pos[0] - 1 < 0:\n",
    "            return None, None\n",
    "        if G[pos[0] - 1][pos[1]] == \"#\":\n",
    "            dirn = \">\"\n",
    "        else:\n",
    "            posn = (pos[0] - 1, pos[1])\n",
    "\n",
    "    if direction == \">\":\n",
    "        if pos[1] + 1 >= len(G[0]):\n",
    "            return None, None\n",
    "        if G[pos[0]][pos[1] + 1] == \"#\":\n",
    "            dirn = \"v\"\n",
    "        else:\n",
    "            posn = (pos[0], pos[1] + 1)\n",
    "\n",
    "    if direction == \"v\":\n",
    "        if pos[0] + 1 >= len(G):\n",
    "            return None, None\n",
    "        if G[pos[0] + 1][pos[1]] == \"#\":\n",
    "            dirn = \"<\"\n",
    "        else:\n",
    "            posn = (pos[0] + 1, pos[1])\n",
    "\n",
    "    if direction == \"<\":\n",
    "        if pos[1] - 1 < 0:\n",
    "            return None, None\n",
    "        if G[pos[0]][pos[1] - 1] == \"#\":\n",
    "            dirn = \"^\"\n",
    "        else:\n",
    "            posn = (pos[0], pos[1] - 1)\n",
    "\n",
    "    return posn, dirn\n",
    "\n",
    "\n",
    "positions = set([start])\n",
    "pos = start\n",
    "dirn = \"^\"\n",
    "while True:\n",
    "    pos, dirn = move(pos, dirn)\n",
    "    if pos is not None:\n",
    "        positions.add(pos)\n",
    "    if pos is None:\n",
    "        break\n",
    "\n",
    "print(len(positions))"
   ],
   "id": "12bdaadebe0406e2",
   "outputs": [
    {
     "name": "stdout",
     "output_type": "stream",
     "text": [
      "4454\n"
     ]
    }
   ],
   "execution_count": 42
  },
  {
   "metadata": {
    "ExecuteTime": {
     "end_time": "2024-12-06T06:04:32.425053Z",
     "start_time": "2024-12-06T06:02:12.887937Z"
    }
   },
   "cell_type": "code",
   "source": [
    "# test = \"\"\"....#.....\n",
    "# .........#\n",
    "# ..........\n",
    "# ..#.......\n",
    "# .......#..\n",
    "# ..........\n",
    "# .#..^.....\n",
    "# ........#.\n",
    "# #.........\n",
    "# ......#...\"\"\"\n",
    "#\n",
    "# lines = test.split()\n",
    "\n",
    "G = []\n",
    "\n",
    "# start = (0,0)\n",
    "\n",
    "for r, line in enumerate(lines):\n",
    "    if \"^\" in line:\n",
    "        start = (r, line.index(\"^\"))\n",
    "        line = line.replace(\"^\", \".\")\n",
    "\n",
    "    G.append([x for x in line])\n",
    "\n",
    "\n",
    "def move(G, pos, direction):\n",
    "    # if pos[0] >= len(G) or pos[1] >= len(G[0]) or pos[1] < 0 or pos[1] < 0:\n",
    "    #     print(\"edge\", pos, direction)\n",
    "    #     return None, None\n",
    "\n",
    "    dirn = direction\n",
    "    posn = pos\n",
    "\n",
    "    if direction == \"^\":\n",
    "        if pos[0] - 1 < 0:\n",
    "            return None, None\n",
    "        if G[pos[0] - 1][pos[1]] == \"#\":\n",
    "            dirn = \">\"\n",
    "        else:\n",
    "            posn = (pos[0] - 1, pos[1])\n",
    "\n",
    "    if direction == \">\":\n",
    "        if pos[1] + 1 >= len(G[0]):\n",
    "            return None, None\n",
    "        if G[pos[0]][pos[1] + 1] == \"#\":\n",
    "            dirn = \"v\"\n",
    "        else:\n",
    "            posn = (pos[0], pos[1] + 1)\n",
    "\n",
    "    if direction == \"v\":\n",
    "        if pos[0] + 1 >= len(G):\n",
    "            return None, None\n",
    "        if G[pos[0] + 1][pos[1]] == \"#\":\n",
    "            dirn = \"<\"\n",
    "        else:\n",
    "            posn = (pos[0] + 1, pos[1])\n",
    "\n",
    "    if direction == \"<\":\n",
    "        if pos[1] - 1 < 0:\n",
    "            return None, None\n",
    "        if G[pos[0]][pos[1] - 1] == \"#\":\n",
    "            dirn = \"^\"\n",
    "        else:\n",
    "            posn = (pos[0], pos[1] - 1)\n",
    "    if dirn == direction and posn == pos:\n",
    "        print(\"NOTHING CHANGED\")\n",
    "    return posn, dirn\n",
    "\n",
    "\n",
    "import copy\n",
    "from tqdm import tqdm\n",
    "\n",
    "loop_count = 0\n",
    "exit_count = 0\n",
    "for i in tqdm(range(len(G))):\n",
    "    for j in range(len(G[i])):\n",
    "        if G[i][j] == \".\" and (i, j) != start:\n",
    "            N_G = copy.deepcopy(G)\n",
    "            N_G[i][j] = \"#\"\n",
    "            pos = start\n",
    "            dirn = \"^\"\n",
    "            positions = {(pos, dirn)}\n",
    "            while True:\n",
    "                # print(pos, dirn)\n",
    "                pos, dirn = move(N_G, pos, dirn)\n",
    "                # print(pos, dirn)\n",
    "                if (pos, dirn) in positions:\n",
    "                    loop_count += 1\n",
    "                    break\n",
    "                if pos is not None:\n",
    "                    positions.add((pos, dirn))\n",
    "                else:\n",
    "                    exit_count += 1\n",
    "                    break\n",
    "\n",
    "print(loop_count)  # , exit_count)"
   ],
   "id": "592c8b79fe185ad2",
   "outputs": [
    {
     "name": "stderr",
     "output_type": "stream",
     "text": [
      "100%|██████████| 130/130 [02:19<00:00,  1.07s/it]"
     ]
    },
    {
     "name": "stdout",
     "output_type": "stream",
     "text": [
      "1503\n"
     ]
    },
    {
     "name": "stderr",
     "output_type": "stream",
     "text": [
      "\n"
     ]
    }
   ],
   "execution_count": 77
  }
 ],
 "metadata": {
  "kernelspec": {
   "display_name": "Python 3",
   "language": "python",
   "name": "python3"
  },
  "language_info": {
   "codemirror_mode": {
    "name": "ipython",
    "version": 2
   },
   "file_extension": ".py",
   "mimetype": "text/x-python",
   "name": "python",
   "nbconvert_exporter": "python",
   "pygments_lexer": "ipython2",
   "version": "2.7.6"
  }
 },
 "nbformat": 4,
 "nbformat_minor": 5
}
