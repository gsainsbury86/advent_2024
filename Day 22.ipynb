{
 "cells": [
  {
   "metadata": {
    "ExecuteTime": {
     "end_time": "2024-12-22T06:08:44.491879Z",
     "start_time": "2024-12-22T06:08:43.617859Z"
    }
   },
   "cell_type": "code",
   "source": [
    "from aoc import *\n",
    "from copy import deepcopy\n",
    "from collections import defaultdict, Counter, deque\n",
    "import re\n",
    "from z3 import Ints, Solver, sat\n",
    "from tqdm import tqdm\n",
    "\n",
    "year = 2024\n",
    "day = 22\n",
    "\n",
    "download_input(year, day)"
   ],
   "id": "c8a39134972e7a7c",
   "outputs": [],
   "execution_count": 1
  },
  {
   "metadata": {
    "collapsed": true,
    "ExecuteTime": {
     "end_time": "2024-12-22T06:08:44.502402Z",
     "start_time": "2024-12-22T06:08:44.497127Z"
    }
   },
   "cell_type": "code",
   "source": "aoc, lines, G, R, C = read_input(day, test=False)",
   "id": "initial_id",
   "outputs": [
    {
     "name": "stdout",
     "output_type": "stream",
     "text": [
      "['11039925', '7437815', '11477663', '9656683', '13355289']\n",
      "1787 8\n"
     ]
    }
   ],
   "execution_count": 2
  },
  {
   "metadata": {
    "ExecuteTime": {
     "end_time": "2024-12-23T09:50:05.933539Z",
     "start_time": "2024-12-23T09:50:03.771497Z"
    }
   },
   "cell_type": "code",
   "source": [
    "start = 123\n",
    "\n",
    "\n",
    "def mix(sec, mix):\n",
    "    return sec ^ mix\n",
    "\n",
    "def prune(sec):\n",
    "    return sec % 16777216\n",
    "\n",
    "ans = 0\n",
    "\n",
    "def gen(inp):\n",
    "\n",
    "    new_sec = mix(inp, inp * 64)\n",
    "    new_sec = prune(new_sec)\n",
    "\n",
    "    new_sec = mix(new_sec, new_sec // 32)\n",
    "    new_sec = prune(new_sec)\n",
    "\n",
    "    new_sec = mix(new_sec, new_sec * 2048)\n",
    "    new_sec = prune(new_sec)\n",
    "\n",
    "    return new_sec\n",
    "\n",
    "for line in lines:\n",
    "\n",
    "    new_sec = int(line)\n",
    "    for i in range(2000):\n",
    "        new_sec = gen(new_sec)\n",
    "\n",
    "    ans += new_sec\n",
    "print(ans)"
   ],
   "id": "4e70f444cf59e7b5",
   "outputs": [
    {
     "name": "stdout",
     "output_type": "stream",
     "text": [
      "14869099597\n"
     ]
    }
   ],
   "execution_count": 10
  },
  {
   "metadata": {
    "ExecuteTime": {
     "end_time": "2024-12-23T09:50:37.545441Z",
     "start_time": "2024-12-23T09:50:31.265119Z"
    }
   },
   "cell_type": "code",
   "source": [
    "tests = [1, 2, 3, 2024]\n",
    "banana_dict = {}\n",
    "\n",
    "all_sequences = defaultdict(list)\n",
    "\n",
    "bananas = 0\n",
    "for line in lines:\n",
    "    new_sec = int(line)\n",
    "    diffs = []\n",
    "    for i in range(2000):\n",
    "        g = gen(new_sec)\n",
    "\n",
    "        diff = g % 10 - new_sec % 10\n",
    "        diffs.append(diff)\n",
    "        new_sec = g\n",
    "\n",
    "        if len(diffs) >= 4:\n",
    "            bananas = new_sec % 10\n",
    "            diffs = diffs[-4:]\n",
    "            all_sequences[tuple(diffs)].append((line, bananas))\n",
    "\n",
    "print(len(all_sequences))"
   ],
   "id": "57442a3f6e27cb0f",
   "outputs": [
    {
     "name": "stdout",
     "output_type": "stream",
     "text": [
      "40951\n"
     ]
    }
   ],
   "execution_count": 12
  },
  {
   "metadata": {
    "ExecuteTime": {
     "end_time": "2024-12-23T09:51:00.420602Z",
     "start_time": "2024-12-23T09:50:59.338792Z"
    }
   },
   "cell_type": "code",
   "source": [
    "results = {}\n",
    "\n",
    "for i, item in enumerate(all_sequences.items()):\n",
    "    k, v = item\n",
    "    bananas = 0\n",
    "\n",
    "    seen = set()\n",
    "    for line, b in v:\n",
    "        if line in seen:\n",
    "            continue\n",
    "        else:\n",
    "            bananas += b\n",
    "            seen.add(line)\n",
    "\n",
    "    results[k] = bananas\n",
    "\n",
    "    # if i > 10:\n",
    "    #     print(results)\n",
    "    #     break\n",
    "\n",
    "print(max(results.values()))\n",
    "\n",
    "# 1126 wrong\n",
    "# 1117 wrong"
   ],
   "id": "40b362b526678870",
   "outputs": [
    {
     "name": "stdout",
     "output_type": "stream",
     "text": [
      "1717\n"
     ]
    }
   ],
   "execution_count": 13
  }
 ],
 "metadata": {
  "kernelspec": {
   "display_name": "Python 3",
   "language": "python",
   "name": "python3"
  },
  "language_info": {
   "codemirror_mode": {
    "name": "ipython",
    "version": 2
   },
   "file_extension": ".py",
   "mimetype": "text/x-python",
   "name": "python",
   "nbconvert_exporter": "python",
   "pygments_lexer": "ipython2",
   "version": "2.7.6"
  }
 },
 "nbformat": 4,
 "nbformat_minor": 5
}
