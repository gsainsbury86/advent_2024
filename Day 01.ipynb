{
 "cells": [
  {
   "cell_type": "code",
   "id": "initial_id",
   "metadata": {
    "collapsed": true,
    "ExecuteTime": {
     "end_time": "2024-12-02T04:41:14.409808Z",
     "start_time": "2024-12-02T04:41:13.617255Z"
    }
   },
   "source": [
    "import pathlib\n",
    "import requests\n",
    "\n",
    "year = 2024\n",
    "day = 1\n",
    "\n",
    "url = f\"https://adventofcode.com/{year}/day/{day}/input\"\n",
    "\n",
    "with open(\"cookie.txt\", \"r\") as file:\n",
    "    session = file.read()\n",
    "\n",
    "headers = {\"cookie\": f\"session={session}\"}\n",
    "\n",
    "pathlib.Path(\"inputs\").mkdir(parents=True, exist_ok=True)\n",
    "\n",
    "with open(f\"inputs/day_{str(day).zfill(2)}_input.txt\", \"wb\") as file:\n",
    "    file.write(requests.get(url, headers=headers).content)\n",
    "\n",
    "lines = [x for x in open(f\"inputs/day_{str(day).zfill(2)}_input.txt\", \"r\")]\n",
    "aoc = \"\".join(lines)\n",
    "print(lines[:5])"
   ],
   "outputs": [
    {
     "name": "stdout",
     "output_type": "stream",
     "text": [
      "['14764   28773\\n', '59598   86587\\n', '63147   83451\\n', '40514   98156\\n', '87534   16479\\n']\n"
     ]
    }
   ],
   "execution_count": 12
  },
  {
   "metadata": {
    "ExecuteTime": {
     "end_time": "2024-12-02T04:41:14.525140Z",
     "start_time": "2024-12-02T04:41:14.520256Z"
    }
   },
   "cell_type": "code",
   "source": [
    "lefts = []\n",
    "rights = []\n",
    "diffs = []\n",
    "\n",
    "for i in lines:\n",
    "    left, right = i.split()\n",
    "    lefts.append(int(left))\n",
    "    rights.append(int(right))\n",
    "\n",
    "lefts = sorted(lefts)\n",
    "rights = sorted(rights)\n",
    "\n",
    "for j in range(len(lefts)):\n",
    "    diffs.append(abs(lefts[j] - rights[j]))\n",
    "\n",
    "print(sum(diffs))"
   ],
   "id": "8129fabce11d415c",
   "outputs": [
    {
     "name": "stdout",
     "output_type": "stream",
     "text": [
      "2815556\n"
     ]
    }
   ],
   "execution_count": 13
  },
  {
   "metadata": {
    "ExecuteTime": {
     "end_time": "2024-12-02T04:41:14.556905Z",
     "start_time": "2024-12-02T04:41:14.547346Z"
    }
   },
   "cell_type": "code",
   "source": [
    "sims = []\n",
    "for l in lefts:\n",
    "    sims.append(l * rights.count(l))\n",
    "print(sum(sims))"
   ],
   "id": "5d088dd0a5124bd7",
   "outputs": [
    {
     "name": "stdout",
     "output_type": "stream",
     "text": [
      "23927637\n"
     ]
    }
   ],
   "execution_count": 14
  }
 ],
 "metadata": {
  "kernelspec": {
   "display_name": "Python 3",
   "language": "python",
   "name": "python3"
  },
  "language_info": {
   "codemirror_mode": {
    "name": "ipython",
    "version": 2
   },
   "file_extension": ".py",
   "mimetype": "text/x-python",
   "name": "python",
   "nbconvert_exporter": "python",
   "pygments_lexer": "ipython2",
   "version": "2.7.6"
  }
 },
 "nbformat": 4,
 "nbformat_minor": 5
}
