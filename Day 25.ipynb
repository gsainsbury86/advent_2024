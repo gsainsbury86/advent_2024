{
 "cells": [
  {
   "cell_type": "code",
   "id": "initial_id",
   "metadata": {
    "collapsed": true,
    "ExecuteTime": {
     "end_time": "2024-12-25T05:01:11.823945Z",
     "start_time": "2024-12-25T05:01:10.912525Z"
    }
   },
   "source": [
    "from re import search\n",
    "from aoc import *\n",
    "from copy import deepcopy\n",
    "from collections import defaultdict, Counter, deque\n",
    "import re\n",
    "from z3 import Ints, Solver, sat\n",
    "from tqdm import tqdm\n",
    "import itertools\n",
    "from pprint import pprint\n",
    "from datetime import datetime\n",
    "\n",
    "\n",
    "year = datetime.now().year\n",
    "day = datetime.now().day\n",
    "\n",
    "if not os.path.exists(f\"inputs/day_{day}_input.txt\"):\n",
    "    download_input(year, day)\n",
    "\n",
    "aoc, lines, G, R, C = read_input(day, test=False)"
   ],
   "outputs": [
    {
     "name": "stdout",
     "output_type": "stream",
     "text": [
      "['#####', '#.###', '#.#.#', '#...#', '#...#']\n",
      "7 5\n"
     ]
    }
   ],
   "execution_count": 2
  },
  {
   "metadata": {
    "ExecuteTime": {
     "end_time": "2024-12-25T05:26:50.400974Z",
     "start_time": "2024-12-25T05:26:50.394626Z"
    }
   },
   "cell_type": "code",
   "source": [
    "aoc, lines, G, R, C = read_input(day, test=False)\n",
    "\n",
    "keys = []\n",
    "locks = []\n",
    "\n",
    "objs = aoc.split(\"\\n\\n\")\n",
    "\n",
    "for obj in objs:\n",
    "\n",
    "    if obj[:5] == \"#####\":\n",
    "        locks.append(obj.split(\"\\n\"))\n",
    "    elif obj[-5:] == \"#####\":\n",
    "        keys.append(obj.split(\"\\n\"))\n",
    "    else:\n",
    "        assert False, f\"{obj[:5]} {obj[-5:]}\""
   ],
   "id": "ab16046738a60d31",
   "outputs": [
    {
     "name": "stdout",
     "output_type": "stream",
     "text": [
      "['#####', '#.###', '#.#.#', '#...#', '#...#']\n",
      "7 5\n"
     ]
    }
   ],
   "execution_count": 77
  },
  {
   "metadata": {
    "ExecuteTime": {
     "end_time": "2024-12-25T05:25:09.878301Z",
     "start_time": "2024-12-25T05:25:09.870793Z"
    }
   },
   "cell_type": "code",
   "source": [
    "key_codes = []\n",
    "for key in keys:\n",
    "    counts = {i: 0 for i in range(5)}\n",
    "    for k in key[:-1]:\n",
    "        for i, l in enumerate(k):\n",
    "            if l == \"#\":\n",
    "                counts[i] += 1\n",
    "    key_codes.append(counts)\n",
    "\n",
    "lock_codes = []\n",
    "for key in locks:\n",
    "    counts = {i: 0 for i in range(5)}\n",
    "    for k in key[1:]:\n",
    "        for i, l in enumerate(k):\n",
    "            if l == \"#\":\n",
    "                counts[i] += 1\n",
    "    lock_codes.append(counts)"
   ],
   "id": "350fd6a370b08f0f",
   "outputs": [],
   "execution_count": 73
  },
  {
   "metadata": {
    "ExecuteTime": {
     "end_time": "2024-12-25T05:26:28.932914Z",
     "start_time": "2024-12-25T05:26:28.882900Z"
    }
   },
   "cell_type": "code",
   "source": [
    "ans = 0\n",
    "\n",
    "for lock in lock_codes:\n",
    "    for key in key_codes:\n",
    "        overlaps = False\n",
    "        for c in range(5):\n",
    "            if lock[c] + key[c] >= 6:\n",
    "                overlaps = True\n",
    "        if not overlaps:\n",
    "            ans += 1\n",
    "\n",
    "print(ans)\n",
    "# 59676 wrong."
   ],
   "id": "7b87ee82a1c809d2",
   "outputs": [
    {
     "name": "stdout",
     "output_type": "stream",
     "text": [
      "2824\n"
     ]
    }
   ],
   "execution_count": 76
  }
 ],
 "metadata": {
  "kernelspec": {
   "display_name": "Python 3",
   "language": "python",
   "name": "python3"
  },
  "language_info": {
   "codemirror_mode": {
    "name": "ipython",
    "version": 2
   },
   "file_extension": ".py",
   "mimetype": "text/x-python",
   "name": "python",
   "nbconvert_exporter": "python",
   "pygments_lexer": "ipython2",
   "version": "2.7.6"
  }
 },
 "nbformat": 4,
 "nbformat_minor": 5
}
