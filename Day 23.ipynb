{
 "cells": [
  {
   "metadata": {
    "ExecuteTime": {
     "end_time": "2024-12-23T05:40:24.507619Z",
     "start_time": "2024-12-23T05:40:24.504470Z"
    }
   },
   "cell_type": "code",
   "source": [
    "from aoc import *\n",
    "from copy import deepcopy\n",
    "from collections import defaultdict, Counter, deque\n",
    "import re\n",
    "from z3 import Ints, Solver, sat\n",
    "from tqdm import tqdm\n",
    "from itertools import combinations\n",
    "\n",
    "year = 2024\n",
    "day = 23\n",
    "\n",
    "download_input(year, day)"
   ],
   "id": "f9f2e3866f3bfb69",
   "outputs": [],
   "execution_count": 43
  },
  {
   "metadata": {
    "ExecuteTime": {
     "end_time": "2024-12-23T05:14:01.111841Z",
     "start_time": "2024-12-23T05:14:01.097842Z"
    }
   },
   "cell_type": "code",
   "source": [
    "aoc, lines, G, R, C = read_input(day, test=False)"
   ],
   "id": "4a8302ad54dd5fd8",
   "outputs": [
    {
     "name": "stdout",
     "output_type": "stream",
     "text": [
      "['xt-qh', 'dq-ci', 'rc-py', 'co-kk', 'vy-aw']\n",
      "3380 5\n"
     ]
    }
   ],
   "execution_count": 2
  },
  {
   "metadata": {
    "ExecuteTime": {
     "end_time": "2024-12-23T09:51:24.622290Z",
     "start_time": "2024-12-23T09:50:40.776937Z"
    }
   },
   "cell_type": "code",
   "source": [
    "lans = []\n",
    "edges = set()\n",
    "nodes = set()\n",
    "\n",
    "for line in lines:\n",
    "    a, b = line.split(\"-\")\n",
    "    edges.add(frozenset({a, b}))\n",
    "    nodes.add(a)\n",
    "    nodes.add(b)\n",
    "\n",
    "lans = set()\n",
    "for a in nodes:\n",
    "    for b in nodes:\n",
    "        if a == b:\n",
    "            continue\n",
    "        for c in nodes:\n",
    "            if a == c:\n",
    "                continue\n",
    "            if a == b:\n",
    "                continue\n",
    "\n",
    "            if (\n",
    "                frozenset({a, b}) in edges\n",
    "                and frozenset({a, c}) in edges\n",
    "                and frozenset({b, c}) in edges\n",
    "            ):\n",
    "                lans.add(frozenset({a, b, c}))\n",
    "\n",
    "ans = 0\n",
    "for lan in lans:\n",
    "    for pc in lan:\n",
    "        if pc.startswith(\"t\"):\n",
    "            ans += 1\n",
    "            break\n",
    "\n",
    "print(ans)"
   ],
   "id": "fbb8dcb8464e4a10",
   "outputs": [
    {
     "name": "stdout",
     "output_type": "stream",
     "text": [
      "1064\n"
     ]
    }
   ],
   "execution_count": 78
  },
  {
   "metadata": {
    "ExecuteTime": {
     "end_time": "2024-12-23T09:51:36.840074Z",
     "start_time": "2024-12-23T09:51:36.459953Z"
    }
   },
   "cell_type": "code",
   "source": [
    "lans = []\n",
    "edges = set()\n",
    "nodes = set()\n",
    "\n",
    "# ChatGPT for bron_kerbosch implementation of maximal cliques.\n",
    "\n",
    "for line in lines:\n",
    "    a, b = line.split(\"-\")\n",
    "    edges.add(frozenset({a, b}))\n",
    "    nodes.add(a)\n",
    "    nodes.add(b)\n",
    "\n",
    "\n",
    "def bron_kerbosch(R, P, X, adjacency_list, result):\n",
    "    if not P and not X:\n",
    "        result.append(R)\n",
    "        return\n",
    "    for v in list(P):\n",
    "        bron_kerbosch(\n",
    "            R | {v},\n",
    "            P & set(adjacency_list[v]),\n",
    "            X & set(adjacency_list[v]),\n",
    "            adjacency_list,\n",
    "            result,\n",
    "        )\n",
    "        P.remove(v)\n",
    "        X.add(v)\n",
    "\n",
    "\n",
    "def find_maximal_cliques(nodes, edges):\n",
    "    # Build adjacency list\n",
    "    adjacency_list = defaultdict(list)\n",
    "    for u, v in edges:\n",
    "        adjacency_list[u].append(v)\n",
    "        adjacency_list[v].append(u)\n",
    "\n",
    "    # Initial sets for Bron-Kerbosch\n",
    "    R = set()  # Current clique\n",
    "    P = set(nodes)  # All nodes are potential\n",
    "    X = set()  # Initially empty\n",
    "    result = []  # Store cliques\n",
    "    bron_kerbosch(R, P, X, adjacency_list, result)\n",
    "    return result\n",
    "\n",
    "\n",
    "largest_group = find_maximal_cliques(nodes, edges)\n",
    "largest_group = sorted(largest_group, key=len, reverse=True)\n",
    "\n",
    "largest_group_of_nodes = set()\n",
    "\n",
    "for edge in largest_group[0]:\n",
    "    largest_group_of_nodes.add(edge)\n",
    "\n",
    "print(\",\".join(sorted(largest_group_of_nodes)))"
   ],
   "id": "c87639b873abbe05",
   "outputs": [
    {
     "name": "stdout",
     "output_type": "stream",
     "text": [
      "aq,cc,ea,gc,jo,od,pa,rg,rv,ub,ul,vr,yy\n"
     ]
    }
   ],
   "execution_count": 80
  }
 ],
 "metadata": {
  "kernelspec": {
   "name": "python3",
   "language": "python",
   "display_name": "Python 3 (ipykernel)"
  }
 },
 "nbformat": 5,
 "nbformat_minor": 9
}
