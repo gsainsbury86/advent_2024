{
 "cells": [
  {
   "cell_type": "code",
   "id": "initial_id",
   "metadata": {
    "collapsed": true,
    "ExecuteTime": {
     "end_time": "2024-12-07T06:55:03.308237Z",
     "start_time": "2024-12-07T06:55:02.206926Z"
    }
   },
   "source": [
    "import pathlib\n",
    "import requests\n",
    "\n",
    "year = 2024\n",
    "day = 7\n",
    "\n",
    "url = f\"https://adventofcode.com/{year}/day/{day}/input\"\n",
    "\n",
    "with open(\"cookie.txt\", \"r\") as file:\n",
    "    session = file.read()\n",
    "\n",
    "headers = {\"cookie\": f\"session={session}\"}\n",
    "\n",
    "pathlib.Path(\"inputs\").mkdir(parents=True, exist_ok=True)\n",
    "\n",
    "with open(f\"inputs/day_{str(day).zfill(2)}_input.txt\", \"wb\") as file:\n",
    "    file.write(requests.get(url, headers=headers).content)"
   ],
   "outputs": [],
   "execution_count": 1
  },
  {
   "metadata": {
    "ExecuteTime": {
     "end_time": "2024-12-07T06:55:05.774288Z",
     "start_time": "2024-12-07T06:55:05.760857Z"
    }
   },
   "cell_type": "code",
   "source": [
    "lines = [x for x in open(f\"inputs/day_{str(day).zfill(2)}_input.txt\", \"r\")]\n",
    "aoc = \"\".join(lines)\n",
    "print(lines[:5])"
   ],
   "id": "75f64025d48b7a96",
   "outputs": [
    {
     "name": "stdout",
     "output_type": "stream",
     "text": [
      "['26529145: 55 2 60 801 22\\n', '15644706: 5 7 8 1 7 9 3 6 621 3 9 6\\n', '7232028116: 96 8 358 21 1 2 3 693 3\\n', '6124901: 61 1 10 7 27 1 763 1\\n', '2835562501: 875 9 6 8 4 5 8 2 5 9 450\\n']\n"
     ]
    }
   ],
   "execution_count": 2
  },
  {
   "metadata": {
    "ExecuteTime": {
     "end_time": "2024-12-07T07:11:07.365104Z",
     "start_time": "2024-12-07T07:10:50.837400Z"
    }
   },
   "cell_type": "code",
   "source": [
    "import math\n",
    "from tqdm import tqdm\n",
    "\n",
    "test_lines = \"\"\"190: 10 19\n",
    "3267: 81 40 27\n",
    "83: 17 5\n",
    "156: 15 6\n",
    "7290: 6 8 6 15\n",
    "161011: 16 10 13\n",
    "192: 17 8 14\n",
    "21037: 9 7 18 13\n",
    "292: 11 6 16 20\"\"\".split(\n",
    "    \"\\n\"\n",
    ")\n",
    "\n",
    "\n",
    "opt_dict = {\"0\": \"+\", \"1\": \"*\"}\n",
    "\n",
    "ans = 0\n",
    "for line in lines:\n",
    "    total, operands = line.strip().split(\":\")\n",
    "    total = int(total)\n",
    "    operands = operands.strip().split(\" \")\n",
    "\n",
    "    for i in range(0, int(math.pow(2, len(operands) - 1))):\n",
    "        bin_str = format(i, \"#016b\")[::-1]\n",
    "        #        print(bin_str)\n",
    "        subtotal = operands[0]\n",
    "        for j, op in enumerate(operands[1:]):\n",
    "            str_to_eval = f\"{subtotal} {opt_dict[bin_str[j]]} {op}\"\n",
    "            subtotal = eval(str_to_eval)\n",
    "        #        print(total, test_total)\n",
    "        if total == subtotal:\n",
    "            ans += total\n",
    "            break\n",
    "print(ans)"
   ],
   "id": "548e41ab8e773270",
   "outputs": [
    {
     "name": "stdout",
     "output_type": "stream",
     "text": [
      "21572148763543\n"
     ]
    }
   ],
   "execution_count": 45
  },
  {
   "metadata": {
    "ExecuteTime": {
     "end_time": "2024-12-07T07:30:19.113128Z",
     "start_time": "2024-12-07T07:16:39.500545Z"
    }
   },
   "cell_type": "code",
   "source": [
    "import math\n",
    "import numpy as np\n",
    "\n",
    "from tqdm import tqdm\n",
    "\n",
    "test_lines = \"\"\"190: 10 19\n",
    "3267: 81 40 27\n",
    "83: 17 5\n",
    "156: 15 6\n",
    "7290: 6 8 6 15\n",
    "161011: 16 10 13\n",
    "192: 17 8 14\n",
    "21037: 9 7 18 13\n",
    "292: 11 6 16 20\"\"\".split(\n",
    "    \"\\n\"\n",
    ")\n",
    "\n",
    "\n",
    "opt_dict = {\"0\": \"+\", \"1\": \"*\", \"2\": \"\"}\n",
    "\n",
    "ans = 0\n",
    "WIDTH = 16\n",
    "\n",
    "for line in tqdm(lines):\n",
    "    total, operands = line.strip().split(\":\")\n",
    "    total = int(total)\n",
    "    operands = operands.strip().split(\" \")\n",
    "\n",
    "    for i in range(0, int(math.pow(3, len(operands) - 1))):\n",
    "        bit_str = np.base_repr(i, base=3)\n",
    "        bit_str = \"0\" * (WIDTH - len(bit_str)) + bit_str\n",
    "        bit_str = bit_str[::-1]\n",
    "        #        print(bin_str)\n",
    "        subtotal = operands[0]\n",
    "        for j, op in enumerate(operands[1:]):\n",
    "            str_to_eval = f\"{subtotal}{opt_dict[bit_str[j]]}{op}\"\n",
    "            subtotal = eval(str_to_eval)\n",
    "        #        print(total, test_total)\n",
    "        if total == subtotal:\n",
    "            ans += total\n",
    "            break\n",
    "print(ans)"
   ],
   "id": "a8089c7db1485a6",
   "outputs": [
    {
     "name": "stderr",
     "output_type": "stream",
     "text": [
      "100%|██████████| 850/850 [13:39<00:00,  1.04it/s]"
     ]
    },
    {
     "name": "stdout",
     "output_type": "stream",
     "text": [
      "581941094529163\n"
     ]
    },
    {
     "name": "stderr",
     "output_type": "stream",
     "text": [
      "\n"
     ]
    }
   ],
   "execution_count": 55
  },
  {
   "metadata": {
    "ExecuteTime": {
     "end_time": "2024-12-07T09:07:12.149223Z",
     "start_time": "2024-12-07T09:07:07.762225Z"
    }
   },
   "cell_type": "code",
   "source": [
    "import math\n",
    "import numpy as np\n",
    "\n",
    "from tqdm import tqdm\n",
    "\n",
    "test_lines = \"\"\"190: 10 19\n",
    "3267: 81 40 27\n",
    "83: 17 5\n",
    "156: 15 6\n",
    "7290: 6 8 6 15\n",
    "161011: 16 10 13\n",
    "192: 17 8 14\n",
    "21037: 9 7 18 13\n",
    "292: 11 6 16 20\"\"\".split(\n",
    "    \"\\n\"\n",
    ")\n",
    "\n",
    "\n",
    "opt_dict = {\"0\": \"+\", \"1\": \"*\", \"2\": \"\"}\n",
    "\n",
    "ans = 0\n",
    "WIDTH = 16\n",
    "\n",
    "\n",
    "def next_step(total, subtotal, operands):\n",
    "    if total == subtotal:\n",
    "        return True\n",
    "    if len(operands) == 0:\n",
    "        return False\n",
    "\n",
    "    new_subtotal = subtotal + operands[0]\n",
    "    if next_step(total, new_subtotal, operands[1:]):\n",
    "        return True\n",
    "\n",
    "    new_subtotal = subtotal * operands[0]\n",
    "    if next_step(total, new_subtotal, operands[1:]):\n",
    "        return True\n",
    "\n",
    "    new_subtotal = int(f\"{subtotal}{operands[0]}\")\n",
    "    if next_step(total, new_subtotal, operands[1:]):\n",
    "        return True\n",
    "\n",
    "    return False\n",
    "\n",
    "\n",
    "for line in tqdm(lines):\n",
    "    total, operands = line.strip().split(\":\")\n",
    "    total = int(total)\n",
    "    operands = [int(x) for x in operands.strip().split(\" \")]\n",
    "\n",
    "    res = next_step(total, operands[0], operands[1:])\n",
    "    if res:\n",
    "        ans += total\n",
    "print(ans)"
   ],
   "id": "c77c3946aae6812a",
   "outputs": [
    {
     "name": "stderr",
     "output_type": "stream",
     "text": [
      "100%|██████████| 850/850 [00:04<00:00, 194.07it/s]"
     ]
    },
    {
     "name": "stdout",
     "output_type": "stream",
     "text": [
      "581944351247986\n"
     ]
    },
    {
     "name": "stderr",
     "output_type": "stream",
     "text": [
      "\n"
     ]
    }
   ],
   "execution_count": 81
  },
  {
   "metadata": {},
   "cell_type": "code",
   "outputs": [],
   "execution_count": null,
   "source": "",
   "id": "d745a6bc2ed9916f"
  }
 ],
 "metadata": {
  "kernelspec": {
   "display_name": "Python 3",
   "language": "python",
   "name": "python3"
  },
  "language_info": {
   "codemirror_mode": {
    "name": "ipython",
    "version": 2
   },
   "file_extension": ".py",
   "mimetype": "text/x-python",
   "name": "python",
   "nbconvert_exporter": "python",
   "pygments_lexer": "ipython2",
   "version": "2.7.6"
  }
 },
 "nbformat": 4,
 "nbformat_minor": 5
}
