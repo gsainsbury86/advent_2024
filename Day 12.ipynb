{
 "cells": [
  {
   "metadata": {
    "ExecuteTime": {
     "end_time": "2024-12-12T05:00:16.756129Z",
     "start_time": "2024-12-12T05:00:15.944387Z"
    }
   },
   "cell_type": "code",
   "source": [
    "import pathlib\n",
    "import requests\n",
    "\n",
    "year = 2024\n",
    "day = 12\n",
    "\n",
    "url = f\"https://adventofcode.com/{year}/day/{day}/input\"\n",
    "\n",
    "with open(\"cookie.txt\", \"r\") as file:\n",
    "    session = file.read()\n",
    "\n",
    "headers = {\"cookie\": f\"session={session}\"}\n",
    "\n",
    "pathlib.Path(\"inputs\").mkdir(parents=True, exist_ok=True)\n",
    "\n",
    "with open(f\"inputs/day_{str(day).zfill(2)}_input.txt\", \"wb\") as file:\n",
    "    file.write(requests.get(url, headers=headers).content)"
   ],
   "id": "bacb77f951bf4564",
   "outputs": [],
   "execution_count": 1
  },
  {
   "metadata": {
    "ExecuteTime": {
     "end_time": "2024-12-12T07:57:11.607721Z",
     "start_time": "2024-12-12T07:57:11.596379Z"
    }
   },
   "cell_type": "code",
   "outputs": [
    {
     "name": "stdout",
     "output_type": "stream",
     "text": [
      "['WEEEEEFFFFFFFFFFFTTTTTTTTTTOBBBBQGGGQQQQQQQQQQQQQQQEEGGGGGGGGGGGGGOEMMMMMMMMMMMCMMMIIIIINWWWWWWDDDDDDDDDDDOOOOOOOOOOOOOOOOOXXXXWWWWWWWWWWWWW\\n', 'WWEEEEWWFFFFFFFFFFFNNNTTTTOOOBBBQQQGGQQQQQQQQQQQQQEEEEGGGGGGGGGGGGOOOMMMMMMMMMMMMMMIIIINNVNNWWWDDDDDDDDDOOOOOOOOOOOOOOOOOOOXXXXCQWWWWWWWWWWW\\n', 'WWWEEEWFFFFFFFFFFFNNNNNNTTOOOOBOQQQQQQQQQQQQQQQQQQEEEEEEGGGGGGGGGXOOOMMMMMMMMMMMMMMMINNNNNNNWWWDDDDDDDDDVQOOOOOOOOOOOOOOOOOXXXXCCCWWWWWWWWWW\\n', 'WWWWWWWFFFFFFFFFFFNNNNNNNTOOOOOOUUQQQQQQQQQQQQQQQQEEEEGGGGGGGGGGROOBBMMMMMMMMMMMMMMMINNNNNNNWWDDDDDDDDDDVVVOOOOOOOOOOOOOOOGXXXXCCWWWWWWWWWWW\\n', 'WWWWWWWTWFFFFFFFFNNFNNJJNNOOOOOUUUUNNNQQQQQQQQQQEEEEEEEEEGGGGGRGRRRRBMMMMMMMMMMMMMMMNNNNNNNNNNDDDDDDDDVVVVVHOOOOOOOOOOOOOOGGXXXXXWWWWWWWWWWW\\n']\n",
      "140 140\n"
     ]
    }
   ],
   "execution_count": 190,
   "source": [
    "lines = [x for x in open(f\"inputs/day_{str(day).zfill(2)}_input.txt\", \"r\")]\n",
    "aoc = \"\".join(lines)\n",
    "G = [[x for x in line.strip()] for line in lines]\n",
    "R = len(G)\n",
    "C = len(G[0])\n",
    "\n",
    "print(lines[:5])\n",
    "print(R, C)"
   ],
   "id": "644e4fe8fac3d405"
  },
  {
   "metadata": {
    "ExecuteTime": {
     "end_time": "2024-12-12T07:58:36.477047Z",
     "start_time": "2024-12-12T07:58:36.426606Z"
    }
   },
   "cell_type": "code",
   "outputs": [
    {
     "name": "stdout",
     "output_type": "stream",
     "text": [
      "1319878\n"
     ]
    }
   ],
   "execution_count": 197,
   "source": [
    "from collections import defaultdict\n",
    "\n",
    "regions = [[None for _ in range(C)] for _ in range(R)]\n",
    "\n",
    "region_list = defaultdict(list)\n",
    "\n",
    "region_counter = 0\n",
    "\n",
    "\n",
    "def grow(region_id, r, c):\n",
    "\n",
    "    labelled = 0\n",
    "\n",
    "    for d in [(0, 1), (0, -1), (-1, 0), (1, 0)]:\n",
    "        rr = r + d[0]\n",
    "        cc = c + d[1]\n",
    "        if 0 <= rr < R and 0 <= cc < C:\n",
    "            # print(regions[rr][cc], region_counter, regions[r][c])\n",
    "            if regions[rr][cc] is None and G[r][c] == G[rr][cc]:\n",
    "                regions[rr][cc] = region_id\n",
    "                region_list[region_id].append((rr, cc))\n",
    "                labelled += 1 + grow(region_id, rr, cc)\n",
    "            else:\n",
    "                pass\n",
    "\n",
    "    return labelled\n",
    "\n",
    "\n",
    "for r in range(R):\n",
    "    for c in range(C):\n",
    "        if regions[r][c] is None:\n",
    "            regions[r][c] = region_counter\n",
    "            region_list[region_counter].append((r, c))\n",
    "            labelled = 1 + grow(region_counter, r, c)\n",
    "        region_counter += 1\n",
    "\n",
    "\n",
    "def print_reg():\n",
    "    for y in regions:\n",
    "        print(\"  \".join([str(f\"{x:02d}\") for x in y]))\n",
    "\n",
    "\n",
    "# print_reg()\n",
    "\n",
    "\n",
    "def calculate_perimeter(region):\n",
    "    lines = defaultdict(int)\n",
    "    for f in region:\n",
    "        lines[(f[0] + 0.5, f[1])] += 1\n",
    "        lines[(f[0] - 0.5, f[1])] += 1\n",
    "        lines[(f[0], f[1] + 0.5)] += 1\n",
    "        lines[(f[0], f[1] - 0.5)] += 1\n",
    "\n",
    "    # if a border is in there twice, it's removed.\n",
    "\n",
    "    return sum([1 for k, v in lines.items() if v == 1])\n",
    "\n",
    "\n",
    "ans = 0\n",
    "for id, region in region_list.items():\n",
    "    area = len(region)\n",
    "    perimeter = calculate_perimeter(region)\n",
    "    ans += area * perimeter\n",
    "\n",
    "print(ans)"
   ],
   "id": "6e32f33c35b632c8"
  },
  {
   "metadata": {
    "ExecuteTime": {
     "end_time": "2024-12-12T07:55:46.884838Z",
     "start_time": "2024-12-12T07:55:46.685947Z"
    }
   },
   "cell_type": "code",
   "source": [
    "from collections import defaultdict\n",
    "\n",
    "regions = [[None for _ in range(C)] for _ in range(R)]\n",
    "region_list = defaultdict(list)\n",
    "region_counter = 0\n",
    "\n",
    "\n",
    "def grow(region_id, r, c):\n",
    "    labelled = 0\n",
    "    for d in [(0, 1), (0, -1), (-1, 0), (1, 0)]:\n",
    "        rr = r + d[0]\n",
    "        cc = c + d[1]\n",
    "        if 0 <= rr < R and 0 <= cc < C:\n",
    "            if regions[rr][cc] is None and G[r][c] == G[rr][cc]:\n",
    "                regions[rr][cc] = region_id\n",
    "                region_list[region_id].append((rr, cc))\n",
    "                labelled += 1 + grow(region_id, rr, cc)\n",
    "            else:\n",
    "                pass\n",
    "\n",
    "    return labelled\n",
    "\n",
    "\n",
    "for r in range(R):\n",
    "    for c in range(C):\n",
    "        if regions[r][c] is None:\n",
    "            regions[r][c] = region_counter\n",
    "            region_list[region_counter].append((r, c))\n",
    "            labelled = 1 + grow(region_counter, r, c)\n",
    "        region_counter += 1\n",
    "\n",
    "\n",
    "def print_reg():\n",
    "    for y in regions:\n",
    "        print(\"  \".join([str(f\"{x:02d}\") for x in y]))\n",
    "\n",
    "\n",
    "def calculate_perimeter(region):\n",
    "\n",
    "    corners = 0\n",
    "\n",
    "    for r in region:\n",
    "        for d in [(-1, -1), (1, -1), (-1, 1), (1, 1)]:\n",
    "            rx = (r[0] + d[0], r[1])\n",
    "            ry = (r[0], r[1] + d[1])\n",
    "            rxy = (r[0] + d[0], r[1] + d[1])\n",
    "\n",
    "            # corner means different in both dimensions.\n",
    "            # OR same in both dimensions but different diagonally.\n",
    "\n",
    "            if rx not in region and ry not in region:\n",
    "                corners += 1\n",
    "            if rx in region and ry in region and rxy not in region:\n",
    "                corners += 1\n",
    "\n",
    "    return corners\n",
    "\n",
    "\n",
    "ans = 0\n",
    "for id, region in region_list.items():\n",
    "    area = len(region)\n",
    "    perimeter = calculate_perimeter(region)\n",
    "    ans += area * perimeter\n",
    "\n",
    "# 1132578 too high.\n",
    "# 778974 too low.\n",
    "print(ans)"
   ],
   "id": "1eaf62ac57294910",
   "outputs": [
    {
     "name": "stdout",
     "output_type": "stream",
     "text": [
      "784982\n"
     ]
    }
   ],
   "execution_count": 187
  }
 ],
 "metadata": {
  "kernelspec": {
   "display_name": "Python 3",
   "language": "python",
   "name": "python3"
  },
  "language_info": {
   "codemirror_mode": {
    "name": "ipython",
    "version": 2
   },
   "file_extension": ".py",
   "mimetype": "text/x-python",
   "name": "python",
   "nbconvert_exporter": "python",
   "pygments_lexer": "ipython2",
   "version": "2.7.6"
  }
 },
 "nbformat": 4,
 "nbformat_minor": 5
}
