{
 "cells": [
  {
   "cell_type": "code",
   "id": "initial_id",
   "metadata": {
    "collapsed": true,
    "ExecuteTime": {
     "end_time": "2024-12-20T07:05:14.139662Z",
     "start_time": "2024-12-20T07:05:13.469613Z"
    }
   },
   "source": [
    "from aoc import *\n",
    "from copy import deepcopy\n",
    "from collections import defaultdict, Counter, deque\n",
    "import re\n",
    "from z3 import Ints, Solver, sat\n",
    "from tqdm import tqdm\n",
    "\n",
    "year = 2024\n",
    "day = 20\n",
    "\n",
    "download_input(year, day)"
   ],
   "outputs": [],
   "execution_count": 2
  },
  {
   "metadata": {
    "ExecuteTime": {
     "end_time": "2024-12-20T07:05:14.342108Z",
     "start_time": "2024-12-20T07:05:14.339408Z"
    }
   },
   "cell_type": "code",
   "source": "aoc, lines, G, R, C = read_input(day, test=True)",
   "id": "cfa9fb626ce7719a",
   "outputs": [
    {
     "name": "stdout",
     "output_type": "stream",
     "text": [
      "['###############', '#...#...#.....#', '#.#.#.#.#.###.#', '#S#...#.#.#...#', '#######.#.#.###']\n",
      "15 15\n"
     ]
    }
   ],
   "execution_count": 3
  },
  {
   "metadata": {
    "ExecuteTime": {
     "end_time": "2024-12-20T07:05:14.958707Z",
     "start_time": "2024-12-20T07:05:14.955959Z"
    }
   },
   "cell_type": "code",
   "source": [
    "for r, row in enumerate(G):\n",
    "    for c, cell in enumerate(row):\n",
    "        if cell == 'S':\n",
    "            s = (r,c)\n",
    "            G[r][c] = '.'\n",
    "        if cell == 'E':\n",
    "            e = (r,c)\n",
    "            G[r][c] = '.'\n",
    "\n",
    "print(s,e)"
   ],
   "id": "f8a46efb226b173",
   "outputs": [
    {
     "name": "stdout",
     "output_type": "stream",
     "text": [
      "(3, 1) (7, 5)\n"
     ]
    }
   ],
   "execution_count": 4
  },
  {
   "metadata": {
    "ExecuteTime": {
     "end_time": "2024-12-20T07:05:15.725558Z",
     "start_time": "2024-12-20T07:05:15.717399Z"
    }
   },
   "cell_type": "code",
   "source": [
    "Q = deque([(s, 0)])\n",
    "SEEN = set()\n",
    "shortest_length = 0\n",
    "\n",
    "while Q:\n",
    "    pos, cost = Q.popleft()\n",
    "    r, c = pos\n",
    "\n",
    "    if (r,c) == e:\n",
    "        shortest_length = cost\n",
    "\n",
    "    if (r, c) in SEEN:\n",
    "        continue\n",
    "    else:\n",
    "        SEEN.add((r,c))\n",
    "\n",
    "    for d in dirs:\n",
    "        rr = r + d[0]\n",
    "        cc = c + d[1]\n",
    "        if 0 <= rr < len(G) and 0 <= cc < len(G[rr]):\n",
    "            if G[rr][cc] == \".\":\n",
    "                Q.append(((rr,cc), cost+1))\n",
    "\n",
    "\n",
    "print(f\"{shortest_length}=\")\n",
    "\n",
    "\n",
    "Q = [(0, s, ())]\n",
    "\n",
    "\n",
    "import heapq\n",
    "\n",
    "SEEN = set()\n",
    "\n",
    "answers = Counter()\n",
    "\n",
    "while Q:\n",
    "    cost, pos, cheat = heapq.heappop(Q)\n",
    "    r, c = pos\n",
    "\n",
    "    if cost > shortest_length - 100:\n",
    "        continue\n",
    "\n",
    "    if (r,c) == e:\n",
    "        if cost < shortest_length:\n",
    "            answers[shortest_length - cost] += 1\n",
    "\n",
    "    if (r, c, cheat) in SEEN:\n",
    "        continue\n",
    "    else:\n",
    "        SEEN.add((r,c, cheat))\n",
    "\n",
    "    for d in dirs:\n",
    "        rr = r + d[0]\n",
    "        cc = c + d[1]\n",
    "        if 0 <= rr < len(G) and 0 <= cc < len(G[0]):\n",
    "            if len(cheat) == 1:\n",
    "                heapq.heappush(Q,(cost+1, (rr,cc), cheat[0] + (rr,cc)))\n",
    "            elif G[rr][cc] == \"#\" and len(cheat) == 0:\n",
    "                heapq.heappush(Q,(cost+1, (rr,cc), (rr,cc)))\n",
    "            elif G[rr][cc] == \".\":\n",
    "                heapq.heappush(Q,(cost+1, (rr,cc), cheat))\n",
    "            else:\n",
    "                pass\n",
    "\n",
    "from pprint import pprint\n",
    "pprint(answers)\n",
    "\n",
    "print(sum([v for k,v in answers.items() if k < shortest_length]))"
   ],
   "id": "8ab49963c4d62c8e",
   "outputs": [
    {
     "name": "stdout",
     "output_type": "stream",
     "text": [
      "84=\n",
      "Counter()\n",
      "0\n"
     ]
    }
   ],
   "execution_count": 5
  },
  {
   "metadata": {},
   "cell_type": "code",
   "outputs": [],
   "execution_count": null,
   "source": [
    "import heapq\n",
    "\n",
    "f = (0, 1)\n",
    "\n",
    "\n",
    "def next_move(search):\n",
    "    cost, state = search\n",
    "    r, c, f, path = state\n",
    "\n",
    "    if (r, c, f) in SEEN:\n",
    "        return []\n",
    "    else:\n",
    "        SEEN.add((r, c, f))\n",
    "\n",
    "    if (r, c) == e:\n",
    "        paths.append(search)\n",
    "        return []\n",
    "    if (r, c, f) in path:\n",
    "        return []\n",
    "\n",
    "    path = tuple([x for x in path] + [(r, c, f)])\n",
    "\n",
    "    available_steps = []\n",
    "\n",
    "    for d in dirs:\n",
    "        rr = r + d[0]\n",
    "        cc = c + d[1]\n",
    "\n",
    "        if f != d:\n",
    "            # don't turn to face a wall.\n",
    "            if G[rr][cc] == \".\":\n",
    "                available_steps.append((cost + 1000, (r, c, d, path)))\n",
    "        else:\n",
    "            if G[rr][cc] == \".\":\n",
    "                available_steps.append((cost + 1, (rr, cc, f, path)))\n",
    "\n",
    "    return available_steps\n",
    "\n",
    "\n",
    "start_state = (s[0], s[1], f, ())\n",
    "\n",
    "Q = [(0, start_state)]\n",
    "SEEN = set()\n",
    "paths = []\n",
    "\n",
    "while Q:\n",
    "    this_move = heapq.heappop(Q)\n",
    "    next_moves = next_move(this_move)\n",
    "    for n in next_moves:\n",
    "        heapq.heappush(Q, n)\n",
    "    if len(paths) > 0:\n",
    "        break\n",
    "\n",
    "print(paths[0][0])"
   ],
   "id": "710bdb593b65e8d4"
  },
  {
   "metadata": {
    "ExecuteTime": {
     "end_time": "2024-12-20T06:32:23.901565Z",
     "start_time": "2024-12-20T06:32:22.927933Z"
    }
   },
   "cell_type": "code",
   "source": [
    "Q = deque([(s,  0)])\n",
    "SEEN = set()\n",
    "\n",
    "shortest_length = 0\n",
    "\n",
    "while Q:\n",
    "    pos, cost = Q.popleft()\n",
    "    r, c = pos\n",
    "\n",
    "    if (r,c) == e:\n",
    "        shortest_length = cost\n",
    "\n",
    "    if (r, c) in SEEN:\n",
    "        continue\n",
    "    else:\n",
    "        SEEN.add((r,c))\n",
    "\n",
    "    for d in dirs:\n",
    "        rr = r + d[0]\n",
    "        cc = c + d[1]\n",
    "        if 0 <= rr < len(G) and 0 <= cc < len(G[rr]):\n",
    "            if G[rr][cc] == \".\":\n",
    "                Q.append(((rr,cc), cost+1))\n",
    "\n",
    "pairs_to_try = set()\n",
    "\n",
    "for r, row in enumerate(G):\n",
    "    for c, cell in enumerate(row):\n",
    "        for d in dirs:\n",
    "            rr = r + d[0]\n",
    "            cc = c + d[1]\n",
    "            if 0 <= rr < len(G) and 0 <= cc < len(G[0]):\n",
    "                # if G[rr][cc] == \"#\" or G[r][c] =='#':\n",
    "                #     pairs_to_try.add(frozenset({(r,c),(rr,cc)}))\n",
    "                if G[r][c] =='#':\n",
    "                    pairs_to_try.add(frozenset({(r,c)}))\n",
    "\n",
    "def perform_race(ignored_locations):\n",
    "\n",
    "    Q = deque([(s, 0, 0)])\n",
    "    SEEN = set()\n",
    "\n",
    "    while Q:\n",
    "        pos, cheat, cost = Q.popleft()\n",
    "        r, c = pos\n",
    "\n",
    "        if cost + MINIMUM_SAVING > shortest_length:\n",
    "            return 1e9\n",
    "\n",
    "        if (r,c) == e:\n",
    "            if cheat == len(ignored_locations):\n",
    "                return cost\n",
    "            else:\n",
    "                return 1e9\n",
    "\n",
    "        if (r, c, cheat) in SEEN:\n",
    "            continue\n",
    "        else:\n",
    "            SEEN.add((r,c, cheat))\n",
    "\n",
    "        # if len(cheat) > 0:\n",
    "        #     print(cheat)\n",
    "        #     print(SEEN)\n",
    "        #     return\n",
    "\n",
    "        for d in dirs:\n",
    "            rr = r + d[0]\n",
    "            cc = c + d[1]\n",
    "            if 0 <= rr < len(G) and 0 <= cc < len(G[0]):\n",
    "                if (rr, cc) in ignored_locations:\n",
    "                    Q.append(((rr,cc), cheat + 1, cost+1))\n",
    "                elif G[rr][cc] == \".\":\n",
    "                    Q.append(((rr,cc), cheat, cost+1))\n",
    "\n",
    "answers = Counter()\n",
    "\n",
    "print(f\"{len(pairs_to_try)=}\")\n",
    "\n",
    "aoc, lines, G, R, C = read_input(day, test=True)\n",
    "for r, row in enumerate(G):\n",
    "    for c, cell in enumerate(row):\n",
    "        if cell == 'S':\n",
    "            s = (r, c)\n",
    "            G[r][c] = '.'\n",
    "        if cell == 'E':\n",
    "            e = (r, c)\n",
    "            G[r][c] = '.'\n",
    "\n",
    "\n",
    "\n",
    "MINIMUM_SAVING = 100\n",
    "\n",
    "for pair in tqdm(pairs_to_try):\n",
    "\n",
    "    this_cost = perform_race(pair)\n",
    "    if shortest_length - this_cost > 0:\n",
    "        answers[shortest_length - this_cost] += 1\n",
    "\n",
    "\n",
    "from pprint import pprint\n",
    "pprint(answers)\n",
    "#pprint(pairs_to_try)\n",
    "\n",
    "print(sum([v for k,v in answers.items()]))\n"
   ],
   "id": "dfcdcb952ab3b3e1",
   "outputs": [
    {
     "name": "stdout",
     "output_type": "stream",
     "text": [
      "len(pairs_to_try)=10424\n",
      "['###############', '#...#...#.....#', '#.#.#.#.#.###.#', '#S#...#.#.#...#', '#######.#.#.###']\n",
      "15 15\n"
     ]
    },
    {
     "name": "stderr",
     "output_type": "stream",
     "text": [
      "100%|██████████| 10424/10424 [00:00<00:00, 11444.76it/s]"
     ]
    },
    {
     "name": "stdout",
     "output_type": "stream",
     "text": [
      "Counter({9372: 25,\n",
      "         9374: 14,\n",
      "         9376: 6,\n",
      "         9382: 2,\n",
      "         9378: 2,\n",
      "         9384: 2,\n",
      "         9412: 1,\n",
      "         9380: 1,\n",
      "         9410: 1,\n",
      "         9436: 1})\n",
      "55\n"
     ]
    },
    {
     "name": "stderr",
     "output_type": "stream",
     "text": [
      "\n"
     ]
    }
   ],
   "execution_count": 30
  },
  {
   "metadata": {
    "ExecuteTime": {
     "end_time": "2024-12-20T07:10:17.308873Z",
     "start_time": "2024-12-20T07:10:17.304354Z"
    }
   },
   "cell_type": "code",
   "source": [
    "Q = deque([(s, 0)])\n",
    "COST_GRID = [[0 for _ in range(len(G[0]))] for _ in range(len(G))]\n",
    "COST_GRID_STR = [['   ' for _ in range(len(G[0]))] for _ in range(len(G))]\n",
    "SEEN = set()\n",
    "\n",
    "\n",
    "while Q:\n",
    "    pos, cost = Q.popleft()\n",
    "    r, c = pos\n",
    "\n",
    "    # if (r,c) == e:\n",
    "    #     shortest_length = cost\n",
    "\n",
    "    if (r, c) in SEEN:\n",
    "        continue\n",
    "    else:\n",
    "        SEEN.add((r,c))\n",
    "        COST_GRID[r][c] = cost\n",
    "        COST_GRID_STR[r][c] = str(cost).zfill(3)\n",
    "\n",
    "    for d in dirs:\n",
    "        rr = r + d[0]\n",
    "        cc = c + d[1]\n",
    "        if 0 <= rr < len(G) and 0 <= cc < len(G[rr]):\n",
    "            if G[rr][cc] == \".\":\n",
    "                Q.append(((rr,cc), cost+1))\n",
    "\n",
    "#print(COST_GRID_STR)\n",
    "print_grid(COST_GRID_STR)"
   ],
   "id": "bb724bf1ae211e6c",
   "outputs": [
    {
     "name": "stdout",
     "output_type": "stream",
     "text": [
      "                                             \n",
      "   002003004   010011012   026027028029030   \n",
      "   001   005   009   013   025         031   \n",
      "   000   006007008   014   024   034033032   \n",
      "                     015   023   035         \n",
      "                     016   022   036037038   \n",
      "                     017   021         039   \n",
      "         082083084   018019020   042041040   \n",
      "         081                     043         \n",
      "   078079080         060059058   044045046   \n",
      "   077               061   057         047   \n",
      "   076   070069068   062   056   050049048   \n",
      "   075   071   067   063   055   051         \n",
      "   074073072   066065064   054053052         \n",
      "                                             \n",
      "\n",
      "\n"
     ]
    }
   ],
   "execution_count": 18
  }
 ],
 "metadata": {
  "kernelspec": {
   "display_name": "Python 3",
   "language": "python",
   "name": "python3"
  },
  "language_info": {
   "codemirror_mode": {
    "name": "ipython",
    "version": 2
   },
   "file_extension": ".py",
   "mimetype": "text/x-python",
   "name": "python",
   "nbconvert_exporter": "python",
   "pygments_lexer": "ipython2",
   "version": "2.7.6"
  }
 },
 "nbformat": 4,
 "nbformat_minor": 5
}
