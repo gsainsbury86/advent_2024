{
 "cells": [
  {
   "cell_type": "code",
   "id": "initial_id",
   "metadata": {
    "collapsed": true,
    "ExecuteTime": {
     "end_time": "2024-12-20T09:38:33.273293Z",
     "start_time": "2024-12-20T09:38:33.265697Z"
    }
   },
   "source": [
    "from aoc import *\n",
    "from copy import deepcopy\n",
    "from collections import defaultdict, Counter, deque\n",
    "import re\n",
    "from z3 import Ints, Solver, sat\n",
    "from tqdm import tqdm\n",
    "\n",
    "year = 2024\n",
    "day = 20\n",
    "\n",
    "download_input(year, day)"
   ],
   "outputs": [],
   "execution_count": 164
  },
  {
   "metadata": {
    "ExecuteTime": {
     "end_time": "2024-12-20T09:38:33.289966Z",
     "start_time": "2024-12-20T09:38:33.282817Z"
    }
   },
   "cell_type": "code",
   "source": [
    "aoc, lines, G, R, C = read_input(day, test=False)\n",
    "\n",
    "for r, row in enumerate(G):\n",
    "    for c, cell in enumerate(row):\n",
    "        if cell == \"S\":\n",
    "            s = (r, c)\n",
    "            G[r][c] = \".\"\n",
    "        if cell == \"E\":\n",
    "            e = (r, c)\n",
    "            G[r][c] = \".\"\n",
    "\n",
    "print(s, e)"
   ],
   "id": "cfa9fb626ce7719a",
   "outputs": [
    {
     "name": "stdout",
     "output_type": "stream",
     "text": [
      "['#############################################################################################################################################', '#.......###...#...###.....###...#...#.......#...#.............###.......#...#####.........#.....#...........###.......#...#.....#...###...###', '#.#####.###.#.#.#.###.###.###.#.#.#.#.#####.#.#.#.###########.###.#####.#.#.#####.#######.#.###.#.#########.###.#####.#.#.#.###.#.#.###.#.###', '#.#...#.....#...#...#...#.....#.#.#.#...#...#.#.#...........#.#...#.....#.#...#...#.....#.#.#...#.....#.....#...#.....#.#.#.#...#.#...#.#...#', '#.#.#.#############.###.#######.#.#.###.#.###.#.###########.#.#.###.#####.###.#.###.###.#.#.#.#######.#.#####.###.#####.#.#.#.###.###.#.###.#']\n",
      "141 141\n",
      "(65, 113) (77, 97)\n"
     ]
    }
   ],
   "execution_count": 165
  },
  {
   "metadata": {
    "ExecuteTime": {
     "end_time": "2024-12-20T09:39:13.071802Z",
     "start_time": "2024-12-20T09:38:33.477329Z"
    }
   },
   "cell_type": "code",
   "source": [
    "Q = deque([(s, 0)])\n",
    "COST_GRID = [[None for _ in range(len(G[0]))] for _ in range(len(G))]\n",
    "SEEN = set()\n",
    "\n",
    "while Q:\n",
    "    pos, cost = Q.popleft()\n",
    "    r, c = pos\n",
    "\n",
    "    if (r, c) in SEEN:\n",
    "        continue\n",
    "    else:\n",
    "        SEEN.add((r, c))\n",
    "        COST_GRID[r][c] = cost\n",
    "\n",
    "    for d in dirs:\n",
    "        rr = r + d[0]\n",
    "        cc = c + d[1]\n",
    "        if 0 <= rr < len(G) and 0 <= cc < len(G[rr]):\n",
    "            if G[rr][cc] == \".\":\n",
    "                Q.append(((rr, cc), cost + 1))\n",
    "\n",
    "shortcut_savings = defaultdict(int)\n",
    "\n",
    "DP = {}\n",
    "\n",
    "\n",
    "def reachable_in_n_steps(r, c, n, d_in=None):\n",
    "\n",
    "    if (r, c, n, d_in) in DP:\n",
    "        return DP[r, c, n, d_in]\n",
    "\n",
    "    reachable = set()\n",
    "    if n == 0:\n",
    "        DP[r, c, n, d_in] = {(r, c)}\n",
    "        return {(r, c)}\n",
    "    else:\n",
    "        for d_i, d in enumerate(dirs):\n",
    "            rr = r + d[0]\n",
    "            cc = c + d[1]\n",
    "            if 0 <= rr < len(G) and 0 <= cc < len(G[0]):\n",
    "                if d_in is not None:\n",
    "                    forwards = d_i == d_in\n",
    "                    same_plane = d_in % 2 == d_i % 2\n",
    "                    backwards = same_plane and not forwards\n",
    "                if d_in is None or (not backwards):\n",
    "                    n_r = reachable_in_n_steps(rr, cc, n - 1, d_i)\n",
    "                    reachable.update(n_r)\n",
    "        DP[r, c, n, d_in] = reachable\n",
    "        return reachable\n",
    "\n",
    "\n",
    "NDP = {}\n",
    "\n",
    "\n",
    "def reachable_in_at_most_n_steps(r, c, n):\n",
    "\n",
    "    if (r, c, n) in NDP:\n",
    "        return NDP[r, c, n]\n",
    "    if n == 0:\n",
    "        NDP[r, c, n] = {(r, c)}\n",
    "        return {(r, c)}\n",
    "    else:\n",
    "        reachable = {(r, c)}\n",
    "        for d_i, d in enumerate(dirs):\n",
    "            rr = r + d[0]\n",
    "            cc = c + d[1]\n",
    "            if 0 <= rr < len(G) and 0 <= cc < len(G[0]):\n",
    "                n_r = reachable_in_at_most_n_steps(rr, cc, n - 1)\n",
    "                reachable.update(n_r)\n",
    "        NDP[r, c, n] = reachable\n",
    "        return reachable\n",
    "\n",
    "\n",
    "def cheats_of_distance(N, MINIMUM_SAVING, part2=False):\n",
    "    shortcut_savings = defaultdict(int)\n",
    "\n",
    "    for r, row in enumerate(G):\n",
    "        for c, cell in enumerate(row):\n",
    "            if part2:\n",
    "                reachables = reachable_in_at_most_n_steps(r, c, N)\n",
    "            else:\n",
    "                reachables = reachable_in_n_steps(r, c, N)\n",
    "            for rr, cc in reachables:\n",
    "                man_dist = abs(rr - r) + abs(cc - c)\n",
    "                if 0 <= rr < len(G) and 0 <= cc < len(G[0]):\n",
    "                    if COST_GRID[rr][cc] is not None and COST_GRID[r][c] is not None:\n",
    "                        saving = COST_GRID[rr][cc] - COST_GRID[r][c] - man_dist\n",
    "                        if saving > 0:\n",
    "                            shortcut_savings[saving] += 1\n",
    "\n",
    "    ans = 0\n",
    "    for saving, count in sorted(shortcut_savings.items(), key=lambda x: -x[1]):\n",
    "        if saving >= MINIMUM_SAVING:\n",
    "            ans += count\n",
    "\n",
    "    print(ans)\n",
    "\n",
    "\n",
    "cheats_of_distance(2, 100, part2=False)\n",
    "\n",
    "# 569718 too low.\n",
    "# 1247457 too high.\n",
    "cheats_of_distance(20, 100, part2=True)  # should be 285 for testing."
   ],
   "id": "bb724bf1ae211e6c",
   "outputs": [
    {
     "name": "stdout",
     "output_type": "stream",
     "text": [
      "1502\n",
      "1028136\n"
     ]
    }
   ],
   "execution_count": 166
  }
 ],
 "metadata": {
  "kernelspec": {
   "display_name": "Python 3",
   "language": "python",
   "name": "python3"
  },
  "language_info": {
   "codemirror_mode": {
    "name": "ipython",
    "version": 2
   },
   "file_extension": ".py",
   "mimetype": "text/x-python",
   "name": "python",
   "nbconvert_exporter": "python",
   "pygments_lexer": "ipython2",
   "version": "2.7.6"
  }
 },
 "nbformat": 4,
 "nbformat_minor": 5
}
