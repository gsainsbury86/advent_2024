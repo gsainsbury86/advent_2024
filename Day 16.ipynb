{
 "cells": [
  {
   "metadata": {
    "ExecuteTime": {
     "end_time": "2024-12-16T05:39:44.733174Z",
     "start_time": "2024-12-16T05:39:43.924964Z"
    }
   },
   "cell_type": "code",
   "source": [
    "from aoc import *\n",
    "from copy import deepcopy\n",
    "from collections import defaultdict, Counter\n",
    "import re\n",
    "from z3 import Ints, Solver, sat"
   ],
   "id": "85baf68112f3bbf0",
   "outputs": [],
   "execution_count": 4
  },
  {
   "metadata": {},
   "cell_type": "code",
   "outputs": [],
   "execution_count": null,
   "source": [
    "year = 2024\n",
    "day = 16\n",
    "\n",
    "download_input(year, day)"
   ],
   "id": "80b0864dd1cf5b1c"
  },
  {
   "metadata": {
    "ExecuteTime": {
     "end_time": "2024-12-16T06:39:35.490103Z",
     "start_time": "2024-12-16T06:39:35.486736Z"
    }
   },
   "cell_type": "code",
   "source": [
    "lines, G, R, C = read_input(day, test=False)\n",
    "\n",
    "for r, row in enumerate(G):\n",
    "    for c, cell in enumerate(row):\n",
    "        if cell == \"S\":\n",
    "            s = (r, c)\n",
    "        if cell == \"E\":\n",
    "            e = (r, c)\n",
    "\n",
    "G[s[0]][s[1]] = \".\"\n",
    "G[e[0]][e[1]] = \".\""
   ],
   "id": "74b13c9132c8f62",
   "outputs": [
    {
     "name": "stdout",
     "output_type": "stream",
     "text": [
      "['#################', '#...#...#...#..E#', '#.#.#.#.#.#.#.#.#', '#.#.#.#...#...#.#', '#.#.#.#.###.#.#.#']\n",
      "17 17\n"
     ]
    }
   ],
   "execution_count": 3
  },
  {
   "metadata": {
    "ExecuteTime": {
     "end_time": "2024-12-16T06:53:02.374491Z",
     "start_time": "2024-12-16T06:53:02.081686Z"
    }
   },
   "cell_type": "code",
   "source": [
    "import heapq\n",
    "\n",
    "f = (0, 1)\n",
    "\n",
    "\n",
    "def next_move(search):\n",
    "    cost, state = search\n",
    "    r, c, f, path = state\n",
    "\n",
    "    if (r, c, f) in SEEN:\n",
    "        return []\n",
    "    else:\n",
    "        SEEN.add((r, c, f))\n",
    "\n",
    "    if (r, c) == e:\n",
    "        paths.append(search)\n",
    "        return []\n",
    "    if (r, c, f) in path:\n",
    "        return []\n",
    "\n",
    "    path = tuple([x for x in path] + [(r, c, f)])\n",
    "\n",
    "    available_steps = []\n",
    "\n",
    "    for d in dirs:\n",
    "        rr = r + d[0]\n",
    "        cc = c + d[1]\n",
    "\n",
    "        if f != d:\n",
    "            # don't turn to face a wall.\n",
    "            if G[rr][cc] == \".\":\n",
    "                available_steps.append((cost + 1000, (r, c, d, path)))\n",
    "        else:\n",
    "            if G[rr][cc] == \".\":\n",
    "                available_steps.append((cost + 1, (rr, cc, f, path)))\n",
    "\n",
    "    return available_steps\n",
    "\n",
    "\n",
    "start_state = (s[0], s[1], f, ())\n",
    "\n",
    "Q = [(0, start_state)]\n",
    "SEEN = set()\n",
    "paths = []\n",
    "\n",
    "while Q:\n",
    "    this_move = heapq.heappop(Q)\n",
    "    next_moves = next_move(this_move)\n",
    "    for n in next_moves:\n",
    "        heapq.heappush(Q, n)\n",
    "    if len(paths) > 0:\n",
    "        break\n",
    "\n",
    "print(paths[0][0])"
   ],
   "id": "aabd7db87c912366",
   "outputs": [
    {
     "name": "stdout",
     "output_type": "stream",
     "text": [
      "114476\n"
     ]
    }
   ],
   "execution_count": 23
  },
  {
   "metadata": {
    "ExecuteTime": {
     "end_time": "2024-12-16T06:54:49.327848Z",
     "start_time": "2024-12-16T06:54:48.022740Z"
    }
   },
   "cell_type": "code",
   "source": [
    "import heapq\n",
    "\n",
    "f = (0, 1)\n",
    "\n",
    "\n",
    "def next_move(search, best_path_cost):\n",
    "    cost, state = search\n",
    "    r, c, f, path = state\n",
    "\n",
    "    # first time through, calculate best path\n",
    "    if best_path_cost is None:\n",
    "        if (r, c, f) in SEEN.keys():\n",
    "            return []\n",
    "        else:\n",
    "            SEEN[(r, c, f)] = cost\n",
    "    # second time through, ignore anything that isn't the best we found last time.\n",
    "    else:\n",
    "        if cost > best_path_cost:\n",
    "            return []\n",
    "\n",
    "        if (r, c, f) in SEEN.keys():\n",
    "            if SEEN[(r, c, f)] < cost:\n",
    "                return []\n",
    "\n",
    "    if (r, c) == e:\n",
    "        paths.append(search)\n",
    "        return []\n",
    "    if (r, c, f) in path:\n",
    "        return []\n",
    "\n",
    "    path = tuple([x for x in path] + [(r, c, f)])\n",
    "\n",
    "    available_steps = []\n",
    "\n",
    "    for d in dirs:\n",
    "        rr = r + d[0]\n",
    "        cc = c + d[1]\n",
    "\n",
    "        if f != d:\n",
    "            # don't turn to face a wall.\n",
    "            if G[rr][cc] == \".\":\n",
    "                available_steps.append((cost + 1000, (r, c, d, path)))\n",
    "        else:\n",
    "            if G[rr][cc] == \".\":\n",
    "                available_steps.append((cost + 1, (rr, cc, f, path)))\n",
    "\n",
    "    return available_steps\n",
    "\n",
    "\n",
    "start_state = (s[0], s[1], f, ())\n",
    "Q = [(0, start_state)]\n",
    "paths = []\n",
    "\n",
    "best_path_cost = None\n",
    "SEEN = {}\n",
    "\n",
    "while Q:\n",
    "    this_move = heapq.heappop(Q)\n",
    "    next_moves = next_move(this_move, best_path_cost)\n",
    "    for n in next_moves:\n",
    "        heapq.heappush(Q, n)\n",
    "\n",
    "    if len(paths) > 0:\n",
    "        best_path_cost = paths[0][0]\n",
    "        break\n",
    "\n",
    "print(\"found cheapest path cost: \", best_path_cost)\n",
    "\n",
    "start_state = (s[0], s[1], f, ())\n",
    "Q = [(0, start_state)]\n",
    "paths = []\n",
    "\n",
    "while Q:\n",
    "    this_move = heapq.heappop(Q)\n",
    "    next_moves = next_move(this_move, best_path_cost)\n",
    "    for n in next_moves:\n",
    "        heapq.heappush(Q, n)\n",
    "\n",
    "print(f\"found {len(paths)} paths of that length.\")\n",
    "\n",
    "all_visited = set({s, e})\n",
    "for path in paths:\n",
    "    all_visited.update([(x[0], x[1]) for x in path[1][3]])\n",
    "\n",
    "print(len(all_visited))"
   ],
   "id": "55ec1f56eeb09ba2",
   "outputs": [
    {
     "name": "stdout",
     "output_type": "stream",
     "text": [
      "found cheapest path cost:  114476\n",
      "found 6 paths of that length.\n",
      "508\n"
     ]
    }
   ],
   "execution_count": 25
  }
 ],
 "metadata": {
  "kernelspec": {
   "display_name": "Python 3",
   "language": "python",
   "name": "python3"
  },
  "language_info": {
   "codemirror_mode": {
    "name": "ipython",
    "version": 2
   },
   "file_extension": ".py",
   "mimetype": "text/x-python",
   "name": "python",
   "nbconvert_exporter": "python",
   "pygments_lexer": "ipython2",
   "version": "2.7.6"
  }
 },
 "nbformat": 4,
 "nbformat_minor": 5
}
