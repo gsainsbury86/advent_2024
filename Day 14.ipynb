{
 "cells": [
  {
   "cell_type": "code",
   "id": "initial_id",
   "metadata": {
    "collapsed": true,
    "ExecuteTime": {
     "end_time": "2024-12-17T23:31:22.974290Z",
     "start_time": "2024-12-17T23:31:22.087847Z"
    }
   },
   "source": [
    "import pathlib\n",
    "import requests\n",
    "from black.trans import defaultdict\n",
    "\n",
    "year = 2024\n",
    "day = 14\n",
    "\n",
    "url = f\"https://adventofcode.com/{year}/day/{day}/input\"\n",
    "\n",
    "with open(\"cookie.txt\", \"r\") as file:\n",
    "    session = file.read()\n",
    "\n",
    "headers = {\"cookie\": f\"session={session}\"}\n",
    "\n",
    "pathlib.Path(\"inputs\").mkdir(parents=True, exist_ok=True)\n",
    "\n",
    "with open(f\"inputs/day_{str(day).zfill(2)}_input.txt\", \"wb\") as file:\n",
    "    file.write(requests.get(url, headers=headers).content)"
   ],
   "outputs": [],
   "execution_count": 1
  },
  {
   "metadata": {
    "ExecuteTime": {
     "end_time": "2024-12-17T23:31:22.994773Z",
     "start_time": "2024-12-17T23:31:22.990355Z"
    }
   },
   "cell_type": "code",
   "source": [
    "lines = [x for x in open(f\"inputs/day_{str(day).zfill(2)}_input.txt\", \"r\")]\n",
    "aoc = \"\".join(lines)\n",
    "G = [[x for x in line.strip()] for line in lines]\n",
    "R = len(G)\n",
    "C = len(G[0])\n",
    "\n",
    "print(lines[:5])\n",
    "print(R, C)"
   ],
   "id": "472b44704df5982c",
   "outputs": [
    {
     "name": "stdout",
     "output_type": "stream",
     "text": [
      "['p=62,65 v=-96,-93\\n', 'p=50,44 v=72,74\\n', 'p=33,42 v=-6,-83\\n', 'p=68,100 v=36,21\\n', 'p=45,36 v=3,-44\\n']\n",
      "500 17\n"
     ]
    }
   ],
   "execution_count": 2
  },
  {
   "metadata": {
    "ExecuteTime": {
     "end_time": "2024-12-17T23:31:23.059254Z",
     "start_time": "2024-12-17T23:31:23.048087Z"
    }
   },
   "cell_type": "code",
   "source": [
    "import re\n",
    "\n",
    "test = \"\"\"p=0,4 v=3,-3\n",
    "p=6,3 v=-1,-3\n",
    "p=10,3 v=-1,2\n",
    "p=2,0 v=2,-1\n",
    "p=0,0 v=1,3\n",
    "p=3,0 v=-2,-2\n",
    "p=7,6 v=-1,-3\n",
    "p=3,0 v=-1,-2\n",
    "p=9,3 v=2,3\n",
    "p=7,3 v=-1,2\n",
    "p=2,4 v=2,-3\n",
    "p=9,5 v=-3,-3\"\"\"\n",
    "\n",
    "test_lines = test.split(\"\\n\")\n",
    "\n",
    "X = 101\n",
    "Y = 103\n",
    "\n",
    "robots = []\n",
    "pattern = r\"p=(\\d+),(\\d+) v=([-]*\\d+),([-]*\\d+)\"\n",
    "for line in lines:\n",
    "\n",
    "    matches = re.match(pattern, line)\n",
    "    robot = matches.groups()\n",
    "    robots.append([int(x) for x in robot])\n",
    "\n",
    "for i in range(100):\n",
    "    for robot in robots:\n",
    "        robot[0] = (robot[0] + robot[2]) % X\n",
    "        robot[1] = (robot[1] + robot[3]) % Y\n",
    "\n",
    "from collections import defaultdict\n",
    "\n",
    "locs = defaultdict(int)\n",
    "quads = defaultdict(int)\n",
    "\n",
    "for robot in robots:\n",
    "    locs[(robot[0], robot[1])] += 1\n",
    "    if robot[0] < X // 2 and robot[1] < Y // 2:\n",
    "        quads[0] += 1\n",
    "    elif robot[0] > X // 2 and robot[1] > Y // 2:\n",
    "        quads[3] += 1\n",
    "    elif robot[0] > X // 2 and robot[1] < Y // 2:\n",
    "        quads[1] += 1\n",
    "    elif robot[0] < X // 2 and robot[1] > Y // 2:\n",
    "        quads[2] += 1\n",
    "    else:\n",
    "        assert robot[0] == X // 2 or robot[1] == Y // 2\n",
    "\n",
    "print(quads[0] * quads[1] * quads[2] * quads[3])"
   ],
   "id": "5924e0eed2cbf5",
   "outputs": [
    {
     "name": "stdout",
     "output_type": "stream",
     "text": [
      "221616000\n"
     ]
    }
   ],
   "execution_count": 3
  },
  {
   "metadata": {
    "ExecuteTime": {
     "end_time": "2024-12-17T23:31:23.067358Z",
     "start_time": "2024-12-17T23:31:23.064148Z"
    }
   },
   "cell_type": "code",
   "source": [
    "import re\n",
    "from copy import deepcopy\n",
    "\n",
    "test = \"\"\"p=0,4 v=3,-3\n",
    "p=6,3 v=-1,-3\n",
    "p=10,3 v=-1,2\n",
    "p=2,0 v=2,-1\n",
    "p=0,0 v=1,3\n",
    "p=3,0 v=-2,-2\n",
    "p=7,6 v=-1,-3\n",
    "p=3,0 v=-1,-2\n",
    "p=9,3 v=2,3\n",
    "p=7,3 v=-1,2\n",
    "p=2,4 v=2,-3\n",
    "p=9,5 v=-3,-3\"\"\"\n",
    "\n",
    "test_lines = test.split(\"\\n\")\n",
    "\n",
    "X = 101\n",
    "Y = 103\n",
    "\n",
    "robots = []\n",
    "pattern = r\"p=(\\d+),(\\d+) v=([-]*\\d+),([-]*\\d+)\"\n",
    "for line in lines:\n",
    "\n",
    "    matches = re.match(pattern, line)\n",
    "    robot = matches.groups()\n",
    "    robots.append([int(x) for x in robot])\n",
    "\n",
    "start_robots = deepcopy(robots)"
   ],
   "id": "f9ef73b224a36c7f",
   "outputs": [],
   "execution_count": 4
  },
  {
   "metadata": {
    "ExecuteTime": {
     "end_time": "2024-12-17T23:31:55.479918Z",
     "start_time": "2024-12-17T23:31:48.595555Z"
    }
   },
   "cell_type": "code",
   "source": [
    "from copy import deepcopy\n",
    "\n",
    "robots = deepcopy(start_robots)\n",
    "\n",
    "import numpy as np\n",
    "from matplotlib import pyplot as plt\n",
    "\n",
    "\n",
    "# \"very rarely\" and \"fewest seconds\" imply a loop. Work out the loop.\n",
    "\n",
    "states = []\n",
    "loop_counter = 0\n",
    "\n",
    "for i in range(100000):\n",
    "    locs = defaultdict(int)\n",
    "    for robot in robots:\n",
    "        robot[0] = (robot[0] + robot[2]) % X\n",
    "        robot[1] = (robot[1] + robot[3]) % Y\n",
    "        locs[(robot[0], robot[1], robot[2], robot[3])] += 1\n",
    "\n",
    "    if locs in states:\n",
    "        loop_counter = i\n",
    "        print(\"loop!\", i, states.index(locs))\n",
    "        break\n",
    "    else:\n",
    "        states.append(locs)\n",
    "\n",
    "\n",
    "for i in range(loop_counter):\n",
    "    x_counts = defaultdict(int)\n",
    "    y_counts = defaultdict(int)\n",
    "\n",
    "    for robot in robots:\n",
    "        robot[0] = (robot[0] + robot[2]) % X\n",
    "        robot[1] = (robot[1] + robot[3]) % Y\n",
    "\n",
    "        x_counts[robot[0]] += 1\n",
    "        y_counts[robot[1]] += 1\n",
    "\n",
    "    # Determine that it should have some lines.\n",
    "    if max(y_counts.values()) > 16 and max(x_counts.values()) > 16:\n",
    "        # off by 1 because we're counting seconds.\n",
    "        print(\"lots on same lines\", i + 1)\n",
    "        arr = np.zeros((Y, X))\n",
    "        for robot in robots:\n",
    "            arr[robot[1]][robot[0]] = 1\n",
    "        plt.imshow(arr)\n",
    "        plt.show()"
   ],
   "id": "47badd64eaaed263",
   "outputs": [
    {
     "name": "stdout",
     "output_type": "stream",
     "text": [
      "loop! 10403 0\n",
      "lots on same line 7571\n"
     ]
    },
    {
     "data": {
      "text/plain": [
       "<Figure size 640x480 with 1 Axes>"
      ],
      "image/png": "[encoded data removed]"
     },
     "metadata": {},
     "output_type": "display_data"
    }
   ],
   "execution_count": 6
  }
 ],
 "metadata": {
  "kernelspec": {
   "display_name": "Python 3",
   "language": "python",
   "name": "python3"
  },
  "language_info": {
   "codemirror_mode": {
    "name": "ipython",
    "version": 2
   },
   "file_extension": ".py",
   "mimetype": "text/x-python",
   "name": "python",
   "nbconvert_exporter": "python",
   "pygments_lexer": "ipython2",
   "version": "2.7.6"
  }
 },
 "nbformat": 4,
 "nbformat_minor": 5
}
