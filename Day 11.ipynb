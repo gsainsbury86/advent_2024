{
 "cells": [
  {
   "metadata": {
    "ExecuteTime": {
     "end_time": "2024-12-11T10:07:51.177797Z",
     "start_time": "2024-12-11T10:07:50.421308Z"
    }
   },
   "cell_type": "code",
   "source": [
    "import pathlib\n",
    "import requests\n",
    "\n",
    "year = 2024\n",
    "day = 11\n",
    "\n",
    "url = f\"https://adventofcode.com/{year}/day/{day}/input\"\n",
    "\n",
    "with open(\"cookie.txt\", \"r\") as file:\n",
    "    session = file.read()\n",
    "\n",
    "headers = {\"cookie\": f\"session={session}\"}\n",
    "\n",
    "pathlib.Path(\"inputs\").mkdir(parents=True, exist_ok=True)\n",
    "\n",
    "with open(f\"inputs/day_{str(day).zfill(2)}_input.txt\", \"wb\") as file:\n",
    "    file.write(requests.get(url, headers=headers).content)"
   ],
   "id": "bacb77f951bf4564",
   "outputs": [],
   "execution_count": 63
  },
  {
   "metadata": {
    "ExecuteTime": {
     "end_time": "2024-12-13T05:14:23.513861Z",
     "start_time": "2024-12-13T05:14:23.300020Z"
    }
   },
   "cell_type": "code",
   "source": [
    "lines = [x for x in open(f\"inputs/day_{str(day).zfill(2)}_input.txt\", \"r\")]\n",
    "aoc = \"\".join(lines)\n",
    "G = [[x for x in line.strip()] for line in lines]\n",
    "R = len(G)\n",
    "C = len(G[0])\n",
    "\n",
    "print(lines[:5])\n",
    "print(R, C)"
   ],
   "id": "644e4fe8fac3d405",
   "outputs": [
    {
     "ename": "NameError",
     "evalue": "name 'day' is not defined",
     "output_type": "error",
     "traceback": [
      "\u001B[1;31m---------------------------------------------------------------------------\u001B[0m",
      "\u001B[1;31mNameError\u001B[0m                                 Traceback (most recent call last)",
      "Cell \u001B[1;32mIn[1], line 1\u001B[0m\n\u001B[1;32m----> 1\u001B[0m lines \u001B[38;5;241m=\u001B[39m [x \u001B[38;5;28;01mfor\u001B[39;00m x \u001B[38;5;129;01min\u001B[39;00m \u001B[38;5;28mopen\u001B[39m(\u001B[38;5;124mf\u001B[39m\u001B[38;5;124m\"\u001B[39m\u001B[38;5;124minputs/day_\u001B[39m\u001B[38;5;132;01m{\u001B[39;00m\u001B[38;5;28mstr\u001B[39m(\u001B[43mday\u001B[49m)\u001B[38;5;241m.\u001B[39mzfill(\u001B[38;5;241m2\u001B[39m)\u001B[38;5;132;01m}\u001B[39;00m\u001B[38;5;124m_input.txt\u001B[39m\u001B[38;5;124m\"\u001B[39m, \u001B[38;5;124m\"\u001B[39m\u001B[38;5;124mr\u001B[39m\u001B[38;5;124m\"\u001B[39m)]\n\u001B[0;32m      2\u001B[0m aoc \u001B[38;5;241m=\u001B[39m \u001B[38;5;124m\"\u001B[39m\u001B[38;5;124m\"\u001B[39m\u001B[38;5;241m.\u001B[39mjoin(lines)\n\u001B[0;32m      3\u001B[0m G \u001B[38;5;241m=\u001B[39m [[x \u001B[38;5;28;01mfor\u001B[39;00m x \u001B[38;5;129;01min\u001B[39;00m line\u001B[38;5;241m.\u001B[39mstrip()] \u001B[38;5;28;01mfor\u001B[39;00m line \u001B[38;5;129;01min\u001B[39;00m lines]\n",
      "\u001B[1;31mNameError\u001B[0m: name 'day' is not defined"
     ]
    }
   ],
   "execution_count": 1
  },
  {
   "metadata": {
    "ExecuteTime": {
     "end_time": "2024-12-11T10:07:51.353644Z",
     "start_time": "2024-12-11T10:07:51.202858Z"
    }
   },
   "cell_type": "code",
   "source": [
    "stones = [int(x) for x in lines[0].strip().split()]\n",
    "\n",
    "\n",
    "def blink(i_stones):\n",
    "\n",
    "    n_stones = []\n",
    "\n",
    "    for i, stone in enumerate(i_stones):\n",
    "        stone_str = str(stone)\n",
    "\n",
    "        if stone == 0:\n",
    "            n_stones.append(1)\n",
    "\n",
    "        elif len(stone_str) % 2 == 0:\n",
    "            n_stones.append(int(stone_str[: len(stone_str) // 2]))\n",
    "            n_stones.append(int(stone_str[len(stone_str) // 2 :]))\n",
    "        else:\n",
    "            n_stones.append(stone * 2024)\n",
    "\n",
    "    return n_stones\n",
    "\n",
    "\n",
    "for i in range(25):\n",
    "    stones = blink(stones)\n",
    "\n",
    "print(len(stones))"
   ],
   "id": "6d3e31a74880a65a",
   "outputs": [
    {
     "name": "stdout",
     "output_type": "stream",
     "text": [
      "193607\n"
     ]
    }
   ],
   "execution_count": 65
  },
  {
   "metadata": {
    "ExecuteTime": {
     "end_time": "2024-12-11T10:07:51.445967Z",
     "start_time": "2024-12-11T10:07:51.361163Z"
    }
   },
   "cell_type": "code",
   "source": [
    "from tqdm import tqdm\n",
    "from collections import defaultdict\n",
    "\n",
    "stones = {int(x): 1 for x in lines[0].strip().split()}\n",
    "\n",
    "DP = {}\n",
    "\n",
    "\n",
    "def blink(i_stones):\n",
    "    nn_stones = defaultdict(int)\n",
    "    for stone, count in i_stones.items():\n",
    "        ans = one_stone_blink(stone)\n",
    "        for k, v in ans.items():\n",
    "            nn_stones[k] += count * v\n",
    "    return nn_stones\n",
    "\n",
    "\n",
    "def one_stone_blink(stone):\n",
    "    if stone in DP:\n",
    "        return DP[stone]\n",
    "    else:\n",
    "        n_stones = defaultdict(int)\n",
    "        stone_str = str(stone)\n",
    "        if stone == 0:\n",
    "            n_stones[1] = 1\n",
    "        elif len(stone_str) % 2 == 0:\n",
    "            n_stones[int(stone_str[: len(stone_str) // 2])] += 1\n",
    "            n_stones[int(stone_str[len(stone_str) // 2 :])] += 1\n",
    "        else:\n",
    "            n_stones[stone * 2024] = 1\n",
    "        DP[stone] = n_stones\n",
    "        return n_stones\n",
    "\n",
    "\n",
    "for i in tqdm(range(75)):\n",
    "    stones = blink(stones)\n",
    "print(sum(stones.values()))"
   ],
   "id": "e33b748bc86e65e0",
   "outputs": [
    {
     "name": "stderr",
     "output_type": "stream",
     "text": [
      "100%|██████████| 75/75 [00:00<00:00, 983.30it/s]"
     ]
    },
    {
     "name": "stdout",
     "output_type": "stream",
     "text": [
      "229557103025807\n"
     ]
    },
    {
     "name": "stderr",
     "output_type": "stream",
     "text": [
      "\n"
     ]
    }
   ],
   "execution_count": 66
  }
 ],
 "metadata": {
  "kernelspec": {
   "display_name": "Python 3",
   "language": "python",
   "name": "python3"
  },
  "language_info": {
   "codemirror_mode": {
    "name": "ipython",
    "version": 2
   },
   "file_extension": ".py",
   "mimetype": "text/x-python",
   "name": "python",
   "nbconvert_exporter": "python",
   "pygments_lexer": "ipython2",
   "version": "2.7.6"
  }
 },
 "nbformat": 4,
 "nbformat_minor": 5
}
