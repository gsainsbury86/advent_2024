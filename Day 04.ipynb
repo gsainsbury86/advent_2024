{
 "cells": [
  {
   "cell_type": "code",
   "id": "initial_id",
   "metadata": {
    "collapsed": true,
    "ExecuteTime": {
     "end_time": "2024-12-04T06:31:16.421454Z",
     "start_time": "2024-12-04T06:31:15.694356Z"
    }
   },
   "source": [
    "import pathlib\n",
    "import requests\n",
    "\n",
    "year = 2024\n",
    "day = 4\n",
    "\n",
    "url = f\"https://adventofcode.com/{year}/day/{day}/input\"\n",
    "\n",
    "with open(\"cookie.txt\", \"r\") as file:\n",
    "    session = file.read()\n",
    "\n",
    "headers = {\"cookie\": f\"session={session}\"}\n",
    "\n",
    "pathlib.Path(\"inputs\").mkdir(parents=True, exist_ok=True)\n",
    "\n",
    "with open(f\"inputs/day_{str(day).zfill(2)}_input.txt\", \"wb\") as file:\n",
    "    file.write(requests.get(url, headers=headers).content)\n",
    "\n",
    "lines = [x for x in open(f\"inputs/day_{str(day).zfill(2)}_input.txt\", \"r\")]\n",
    "aoc = \"\".join(lines)\n",
    "print(lines[:5])"
   ],
   "outputs": [
    {
     "name": "stdout",
     "output_type": "stream",
     "text": [
      "['SMXMMAXXXXMMMMSMMASASMSXMMAMSSMXSMMXMASAMXXMAMXAXXAMXAXASMSMSMMMSXXSXSXXAAMXXSXMASMAASXMXMSSMXXXXMMSSSMXSXXMASXMMSMSXMXSSMXSMMMSXMSAMSASXSAM\\n', 'MASMMSXMMMMAMSMAXSAMXAXAXXAXSASAMASMMASAMAXMAXMMSXASMMMMSAAXAAAAXSMAAAAMAMXSSMMXMASMSAMXSAAAMSMMMSMAAAMMMXMXAXASAASXASAXMASMAAXXAXMAMXXSSMAM\\n', 'MAMAAMXMAXSASAMMMXAMMMMAMMSMSAMXSAMXMASAMMSXSASAMXSMAAAMMXMMSMMXMAMSSMMAAMAMAXAAXMAMXAMSAMMSMAXAAAMMSMMAAXSMMSXMSMMSAMXSXMXXMMSSMMMSMMXMASXM\\n', 'MAMMMXAMXMXXSASXAXAMSXMXSAAXMMMXMXSXMXSMMXMAXAMXXXXXSSSSXAMXXAMMAMXAXAXSAMMSMMMSMMSMSAMAAXMAMXSMSXXAXMSSSSMAXSAMXMMMSXAXAXAMMXMASXAMAMSXAMMX\\n', 'SSSXXSMMSMMXSAAMSSSMMXSAMMSMMMMMMASASAMASMMMMXSSSSMXMAMMMXSASAMXXXSXMMMMASXAXASAMMAAMXMSMMSMXMXXAMXXSMAMMXMAMMXAAXMAMMSSMMXXAASAMMXSAMAMSSMM\\n']\n"
     ]
    }
   ],
   "execution_count": 137
  },
  {
   "metadata": {
    "ExecuteTime": {
     "end_time": "2024-12-04T06:36:47.139480Z",
     "start_time": "2024-12-04T06:36:46.780262Z"
    }
   },
   "cell_type": "code",
   "source": [
    "import numpy as np\n",
    "\n",
    "\n",
    "def test(inp):\n",
    "    count = 0\n",
    "    for line in inp:\n",
    "        for c in range(len(line)):\n",
    "            if line[c : c + 4] == \"XMAS\":\n",
    "                count += 1\n",
    "            if line[c : c + 4] == \"SAMX\":\n",
    "                count += 1\n",
    "    return count\n",
    "\n",
    "\n",
    "def rotate(inp):\n",
    "    N = len(inp)\n",
    "    M = len(inp[0])\n",
    "    outp = [\"\" for x in range(M)]\n",
    "    for i in range(N):\n",
    "        for j in range(M):\n",
    "            outp[j] += inp[i][j]\n",
    "    return outp\n",
    "\n",
    "\n",
    "def diag_1(inp):\n",
    "    N = len(inp)\n",
    "    M = len(inp[0])\n",
    "    outp = []\n",
    "    for c in range(N + M - 1):\n",
    "        line = \"\"\n",
    "        for i in range(M):\n",
    "            for j in range(N):\n",
    "                if i + j == c and i <= c and j <= c:\n",
    "                    line += inp[j][i]\n",
    "        if line != \"\":\n",
    "            outp.append(line)\n",
    "    return outp\n",
    "\n",
    "\n",
    "def flip(inp):\n",
    "    return [x[::-1] for x in inp]\n",
    "\n",
    "\n",
    "def diag_2(inp):\n",
    "    return diag_1(flip(inp))\n",
    "\n",
    "\n",
    "count = 0\n",
    "count += test(lines)\n",
    "\n",
    "count += test(rotate(lines))\n",
    "\n",
    "count += test(diag_1(lines))\n",
    "\n",
    "count += test(diag_2(lines))\n",
    "\n",
    "print(count)"
   ],
   "id": "5ca3d757d1df6a2b",
   "outputs": [
    {
     "name": "stdout",
     "output_type": "stream",
     "text": [
      "2543\n"
     ]
    }
   ],
   "execution_count": 141
  },
  {
   "metadata": {
    "ExecuteTime": {
     "end_time": "2024-12-04T06:37:17.044479Z",
     "start_time": "2024-12-04T06:37:16.911614Z"
    }
   },
   "cell_type": "code",
   "source": [
    "array = np.array([list(line) for line in lines])\n",
    "\n",
    "N = len(lines)\n",
    "M = len(lines[0])\n",
    "\n",
    "\n",
    "def test(inp):\n",
    "    if inp[0, 0] == \"M\" and inp[2, 2] == \"S\":\n",
    "        if inp[0, 2] == \"M\" and inp[2, 0] == \"S\":\n",
    "            return True\n",
    "\n",
    "\n",
    "count = 0\n",
    "for i in range(N):\n",
    "    for j in range(M):\n",
    "        if i == 0 or j == 0:\n",
    "            continue\n",
    "        if i == N - 1 or j == M - 1:\n",
    "            continue\n",
    "        if array[i][j] == \"A\":\n",
    "            res = test(array[i - 1 : i + 2, j - 1 : j + 2])\n",
    "            if res:\n",
    "                count += 1\n",
    "            res = test(np.rot90(array[i - 1 : i + 2, j - 1 : j + 2]))\n",
    "            if res:\n",
    "                count += 1\n",
    "            res = test(np.rot90(array[i - 1 : i + 2, j - 1 : j + 2], k=2))\n",
    "            if res:\n",
    "                count += 1\n",
    "            res = test(np.rot90(array[i - 1 : i + 2, j - 1 : j + 2], k=3))\n",
    "            if res:\n",
    "                count += 1\n",
    "\n",
    "print(count)"
   ],
   "id": "65ec819fdbd6c217",
   "outputs": [
    {
     "name": "stdout",
     "output_type": "stream",
     "text": [
      "1930\n"
     ]
    }
   ],
   "execution_count": 142
  }
 ],
 "metadata": {
  "kernelspec": {
   "display_name": "Python 3",
   "language": "python",
   "name": "python3"
  },
  "language_info": {
   "codemirror_mode": {
    "name": "ipython",
    "version": 2
   },
   "file_extension": ".py",
   "mimetype": "text/x-python",
   "name": "python",
   "nbconvert_exporter": "python",
   "pygments_lexer": "ipython2",
   "version": "2.7.6"
  }
 },
 "nbformat": 4,
 "nbformat_minor": 5
}
