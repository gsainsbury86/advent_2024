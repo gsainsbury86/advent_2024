{
 "cells": [
  {
   "cell_type": "code",
   "id": "initial_id",
   "metadata": {
    "collapsed": true,
    "ExecuteTime": {
     "end_time": "2024-12-17T05:31:32.249217Z",
     "start_time": "2024-12-17T05:31:31.542535Z"
    }
   },
   "source": [
    "from aoc import *\n",
    "from copy import deepcopy\n",
    "from collections import defaultdict, Counter\n",
    "import re\n",
    "from z3 import Ints, Solver, sat\n",
    "\n",
    "year = 2024\n",
    "day = 17\n",
    "\n",
    "download_input(year, day)\n"
   ],
   "outputs": [],
   "execution_count": 32
  },
  {
   "metadata": {
    "ExecuteTime": {
     "end_time": "2024-12-17T05:31:46.415633Z",
     "start_time": "2024-12-17T05:31:46.410113Z"
    }
   },
   "cell_type": "code",
   "source": "aoc, lines, G, R, C = read_input(day, test=False)",
   "id": "58daf37393922fa8",
   "outputs": [
    {
     "name": "stdout",
     "output_type": "stream",
     "text": [
      "['Program: 2,4,1,5,7,5,0,3,4,1,1,6,5,5,3,0']\n",
      "3 20\n"
     ]
    }
   ],
   "execution_count": 36
  },
  {
   "metadata": {
    "ExecuteTime": {
     "end_time": "2024-12-17T05:31:49.517248Z",
     "start_time": "2024-12-17T05:31:49.512376Z"
    }
   },
   "cell_type": "code",
   "source": [
    "registers = defaultdict(int)\n",
    "\n",
    "opcodes = {0:'adv',1:'bxl',2:'bst',3:'jnz',4:'bxc',5:'out',6:'bdv',7:'cdv'}\n",
    "\n",
    "steps = [int(x) for x in lines[0].split( )[1].split(\",\")]\n",
    "print(steps)\n",
    "\n",
    "instructions = [(steps[2*i],steps[2*i+1]) for i in range(len(steps)//2)]\n",
    "\n",
    "pattern = r\"Register (.*): (\\d+)\"\n",
    "for line in aoc.split(\"\\n\")[:3]:\n",
    "    matches = re.match(pattern, line)\n",
    "    k, v = matches.groups()\n",
    "    registers[k] = int(v)\n",
    "\n",
    "print(registers)"
   ],
   "id": "dcbd9a1957257baa",
   "outputs": [
    {
     "name": "stdout",
     "output_type": "stream",
     "text": [
      "[2, 4, 1, 5, 7, 5, 0, 3, 4, 1, 1, 6, 5, 5, 3, 0]\n",
      "defaultdict(<class 'int'>, {'A': 47719761, 'B': 0, 'C': 0})\n"
     ]
    }
   ],
   "execution_count": 38
  },
  {
   "metadata": {
    "ExecuteTime": {
     "end_time": "2024-12-17T05:36:11.006526Z",
     "start_time": "2024-12-17T05:36:11.000439Z"
    }
   },
   "cell_type": "code",
   "source": [
    "import math\n",
    "for line in aoc.split(\"\\n\")[:3]:\n",
    "    matches = re.match(pattern, line)\n",
    "    k, v = matches.groups()\n",
    "    registers[k] = int(v)\n",
    "\n",
    "# Combo operands 0 through 3 represent literal values 0 through 3.\n",
    "# Combo operand 4 represents the value of register A.\n",
    "# Combo operand 5 represents the value of register B.\n",
    "# Combo operand 6 represents the value of register C.\n",
    "# Combo operand 7 is reserved and will not appear in valid programs.\n",
    "\n",
    "def determine_combo_operand(operand):\n",
    "    if operand <= 3:\n",
    "        return operand\n",
    "    elif operand == 4:\n",
    "        return registers['A']\n",
    "    elif operand == 5:\n",
    "        return registers['B']\n",
    "    elif operand == 6:\n",
    "        return registers['C']\n",
    "    else:\n",
    "        assert False\n",
    "\n",
    "output = []\n",
    "i = 0\n",
    "while i < len(steps):\n",
    "    opcode = steps[i]\n",
    "    operand = steps[i+1]\n",
    "    combo_operand = determine_combo_operand(operand)\n",
    "\n",
    "    # combo\n",
    "    if opcode == 0:\n",
    "        registers['A'] = int(registers['A'] // math.pow(2,combo_operand))\n",
    "    # literal\n",
    "    if opcode == 1:\n",
    "        registers['B'] = registers['B'] ^ operand\n",
    "    # combo\n",
    "    if opcode == 2:\n",
    "        registers['B'] = combo_operand % 8\n",
    "    # literal\n",
    "    if opcode == 3:\n",
    "        if registers['A'] == 0:\n",
    "            pass\n",
    "        else:\n",
    "            i = operand\n",
    "            continue\n",
    "    # -\n",
    "    if opcode == 4:\n",
    "        registers['B'] = registers['B'] ^ registers['C']\n",
    "    # combo\n",
    "    if opcode == 5:\n",
    "        output.append(combo_operand % 8)\n",
    "    # combo\n",
    "    if opcode == 6:\n",
    "        registers['B'] = int(registers['A'] // math.pow(2,combo_operand))\n",
    "    # combo\n",
    "    if opcode == 7:\n",
    "        registers['C'] = int(registers['A'] // math.pow(2,combo_operand))\n",
    "\n",
    "    i+=2\n",
    "\n",
    "#print('finished')\n",
    "#print(output)\n",
    "#print(','.join([np.base_repr(x,base=3) for x in output]))\n",
    "print(','.join(str(x) for x in output))\n"
   ],
   "id": "1ba00c63396d941b",
   "outputs": [
    {
     "name": "stdout",
     "output_type": "stream",
     "text": [
      "7,0,3,1,2,6,3,7,1\n"
     ]
    }
   ],
   "execution_count": 46
  },
  {
   "metadata": {
    "ExecuteTime": {
     "end_time": "2024-12-17T09:25:08.347874Z",
     "start_time": "2024-12-17T09:25:08.342467Z"
    }
   },
   "cell_type": "code",
   "source": [
    "\n",
    "def test_register_value(A_new):\n",
    "\n",
    "    registers['A'] = A_new\n",
    "\n",
    "    output = []\n",
    "    i = 0\n",
    "    while i < len(steps):\n",
    "        opcode = steps[i]\n",
    "        operand = steps[i+1]\n",
    "        combo_operand = determine_combo_operand(operand)\n",
    "\n",
    "        # combo\n",
    "        if opcode == 0:\n",
    "            registers['A'] = int(registers['A'] // math.pow(2,combo_operand))\n",
    "        # literal\n",
    "        if opcode == 1:\n",
    "            registers['B'] = registers['B'] ^ operand\n",
    "        # combo\n",
    "        if opcode == 2:\n",
    "            registers['B'] = combo_operand % 8\n",
    "        # literal\n",
    "        if opcode == 3:\n",
    "            if registers['A'] == 0:\n",
    "                pass\n",
    "            else:\n",
    "                i = operand\n",
    "                continue\n",
    "        # -\n",
    "        if opcode == 4:\n",
    "            registers['B'] = registers['B'] ^ registers['C']\n",
    "        # combo\n",
    "        if opcode == 5:\n",
    "            output.append(combo_operand % 8)\n",
    "        # combo\n",
    "        if opcode == 6:\n",
    "            registers['B'] = int(registers['A'] // math.pow(2,combo_operand))\n",
    "        # combo\n",
    "        if opcode == 7:\n",
    "            registers['C'] = int(registers['A'] // math.pow(2,combo_operand))\n",
    "\n",
    "        i+=2\n",
    "\n",
    "    return output\n",
    "\n",
    "target = [x for x in steps]"
   ],
   "id": "81c7b784ea516bc9",
   "outputs": [],
   "execution_count": 448
  },
  {
   "metadata": {},
   "cell_type": "markdown",
   "source": [
    "My starting program is this.\n",
    "\n",
    "Program: 2,4,1,5,7,5,0,3,4,1,1,6,5,5,3,0\n",
    "\n",
    "2 4 - set B to A % 8\n",
    "1 5 - set B to B XOR 5\n",
    "7 5 - set C to A // (2 ^ B)\n",
    "0 3 - set A to A // (2 ^ A)\n",
    "4 1 - set B to B XOR C\n",
    "1 6 - set B to B XOR 6\n",
    "5 5 - output B % 8\n",
    "3 0 - if A > 0 jump to start.\n",
    "\n",
    "\n",
    "def step(A,B,C):\n",
    "    B = A % 8\n",
    "    B = B ^ 5\n",
    "    C =\n",
    "\n",
    "A = A, C = 0\n",
    "1. B = A % 8\n",
    "2. B = (A % 8) XOR 5,\n",
    "3. C = A // (2 ^ B)\n",
    "4. B = (A % 8) XOR 5 XOR C\n",
    "5. B = B XOR 6\n",
    "5. output.\n",
    "\n",
    "So B is output as A % 8 then XOR 5 then XOR A // (2 ^ B) then XOR 6.\n",
    "\n",
    "3 bit number XOR 5\n",
    "A A XOR 5\n",
    "0 5\n",
    "1 4\n",
    "2 7\n",
    "3 6\n",
    "4 1\n",
    "5 0\n",
    "6 3\n",
    "7\n",
    "\n"
   ],
   "id": "fdd4a01f267dfe86"
  },
  {
   "metadata": {
    "ExecuteTime": {
     "end_time": "2024-12-17T09:26:21.931455Z",
     "start_time": "2024-12-17T09:26:21.925412Z"
    }
   },
   "cell_type": "code",
   "source": [
    "def step(A_in,B_in,C_in, debug = False):\n",
    "    # 2 4 - set B to A % 8\n",
    "    B_in = A_in % 8\n",
    "    if debug:\n",
    "        print(f\"{A_in=} {B_in=} {C_in=}\")\n",
    "\n",
    "    # 1 5 - set B to B XOR 5\n",
    "    B_in = B_in ^ 5\n",
    "    if debug:\n",
    "        print(f\"{A_in=} {B_in=} {C_in=}\")\n",
    "\n",
    "    # 7 5 - set C to A // (2 ^ B)\n",
    "    C_in = A_in // int(math.pow(2,B_in))\n",
    "    if debug:\n",
    "            print(f\"{A_in=} {B_in=} {C_in=}\")\n",
    "\n",
    "    # 0 3 - set A to A // (2 ^ 3)\n",
    "    # 2 ^ 3 == 8\n",
    "    A_in = A_in // 8\n",
    "    if debug:\n",
    "        print(f\"{A_in=} {B_in=} {C_in=}\")\n",
    "\n",
    "    # 4 1 - set B to B XOR C\n",
    "    B_in = B_in ^ C_in\n",
    "    if debug:\n",
    "        print(f\"{A_in=} {B_in=} {C_in=}\")\n",
    "\n",
    "    # 1 6 - set B to B XOR 6\n",
    "    B_in = B_in ^ 6\n",
    "    if debug:\n",
    "        print(f\"{A_in=} {B_in=} {C_in=}\")\n",
    "\n",
    "    # 5 5 - output B % 8\n",
    "    #print(\"OUTPUT\", B_in % 8)\n",
    "    return A_in, B_in, C_in\n",
    "\n",
    "\n",
    "A = 47719761\n",
    "B = 0\n",
    "C = 0\n",
    "out = []\n",
    "\n",
    "while True:\n",
    "    A, B, C = step(A,B,C)\n",
    "    out.append(B % 8)\n",
    "    if A == 0:\n",
    "        break\n",
    "\n",
    "print(out)"
   ],
   "id": "b9f3e63338920e98",
   "outputs": [
    {
     "name": "stdout",
     "output_type": "stream",
     "text": [
      "[7, 0, 3, 1, 2, 6, 3, 7, 1]\n"
     ]
    }
   ],
   "execution_count": 450
  },
  {
   "metadata": {
    "ExecuteTime": {
     "end_time": "2024-12-17T08:54:09.622073Z",
     "start_time": "2024-12-17T08:54:09.614556Z"
    }
   },
   "cell_type": "code",
   "source": "",
   "id": "ed6b52522c7a3548",
   "outputs": [
    {
     "name": "stdout",
     "output_type": "stream",
     "text": [
      "defaultdict(<class 'list'>, {0: [], 1: [], 2: [], 3: [], 4: [], 5: [], 6: [], 7: [], 8: [], 9: [], 10: [], 11: [], 12: [], 13: [], 14: [], 15: []})\n",
      "[2, 4, 1, 5, 7, 5, 0, 3, 4, 1, 1, 6, 5, 5, 3, 0]\n"
     ]
    },
    {
     "data": {
      "text/plain": [
       "[6, 5, 5, 3, 0]"
      ]
     },
     "execution_count": 355,
     "metadata": {},
     "output_type": "execute_result"
    }
   ],
   "execution_count": 355
  },
  {
   "metadata": {
    "ExecuteTime": {
     "end_time": "2024-12-17T09:39:26.970890Z",
     "start_time": "2024-12-17T09:39:26.917734Z"
    }
   },
   "cell_type": "code",
   "source": [
    "\n",
    "def test_next(inp='000', len_tar=1):\n",
    "    \"\"\"\n",
    "    Test things 3 at a time.\n",
    "    :param inp: default input to start with.\n",
    "    :param len_tar: partial result is ok if it matches the target up to this length.\n",
    "    :return: all results which work up to this length.\n",
    "    \"\"\"\n",
    "\n",
    "    results = []\n",
    "    outputs = []\n",
    "\n",
    "    test_a = inp\n",
    "\n",
    "    for i in range(0,8):\n",
    "\n",
    "        test_a += format(i,\"03b\")\n",
    "        test_a = int(test_a, 2)\n",
    "\n",
    "        A = test_a\n",
    "        B = 0\n",
    "        C = 0\n",
    "        out = []\n",
    "\n",
    "        while True:\n",
    "            A, B, C = step(A,B,C)\n",
    "            out.append(B % 8)\n",
    "            if A == 0:\n",
    "                break\n",
    "\n",
    "        if out == target[-len_tar:]:\n",
    "            results.append(np.base_repr(test_a, base=2))\n",
    "            outputs.append(out)\n",
    "\n",
    "        test_a = inp\n",
    "\n",
    "    return results\n",
    "\n",
    "found = defaultdict(list)\n",
    "\n",
    "found[0] = test_next()\n",
    "\n",
    "j = 0\n",
    "\n",
    "finished = False\n",
    "while not finished: #len(found) < len(target):\n",
    "    for result in found[j]:\n",
    "        next_results = test_next(result, j+2)\n",
    "        found[j+1].extend(next_results)\n",
    "\n",
    "        for x in next_results:\n",
    "            if test_register_value(int(x,2)) == target:\n",
    "                print(int(x,2))\n",
    "                finished = True\n",
    "                break\n",
    "        if finished:\n",
    "            break\n",
    "\n",
    "    j += 1\n"
   ],
   "id": "7e8ae3a6ebc2172",
   "outputs": [
    {
     "name": "stdout",
     "output_type": "stream",
     "text": [
      "109020013201563\n"
     ]
    }
   ],
   "execution_count": 476
  }
 ],
 "metadata": {
  "kernelspec": {
   "display_name": "Python 3",
   "language": "python",
   "name": "python3"
  },
  "language_info": {
   "codemirror_mode": {
    "name": "ipython",
    "version": 2
   },
   "file_extension": ".py",
   "mimetype": "text/x-python",
   "name": "python",
   "nbconvert_exporter": "python",
   "pygments_lexer": "ipython2",
   "version": "2.7.6"
  }
 },
 "nbformat": 4,
 "nbformat_minor": 5
}
