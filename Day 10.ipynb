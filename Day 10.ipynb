{
 "cells": [
  {
   "metadata": {
    "ExecuteTime": {
     "end_time": "2024-12-10T05:30:45.361978Z",
     "start_time": "2024-12-10T05:30:44.229946Z"
    }
   },
   "cell_type": "code",
   "source": [
    "import pathlib\n",
    "import requests\n",
    "\n",
    "year = 2024\n",
    "day = 10\n",
    "\n",
    "url = f\"https://adventofcode.com/{year}/day/{day}/input\"\n",
    "\n",
    "with open(\"cookie.txt\", \"r\") as file:\n",
    "    session = file.read()\n",
    "\n",
    "headers = {\"cookie\": f\"session={session}\"}\n",
    "\n",
    "pathlib.Path(\"inputs\").mkdir(parents=True, exist_ok=True)\n",
    "\n",
    "with open(f\"inputs/day_{str(day).zfill(2)}_input.txt\", \"wb\") as file:\n",
    "    file.write(requests.get(url, headers=headers).content)"
   ],
   "id": "817c9eb22b4e004c",
   "outputs": [],
   "execution_count": 1
  },
  {
   "metadata": {
    "ExecuteTime": {
     "end_time": "2024-12-10T05:52:55.764658Z",
     "start_time": "2024-12-10T05:52:55.759929Z"
    }
   },
   "cell_type": "code",
   "source": [
    "lines = [x for x in open(f\"inputs/day_{str(day).zfill(2)}_input.txt\", \"r\")]\n",
    "aoc = \"\".join(lines)\n",
    "G = [[x for x in line.strip()] for line in lines]\n",
    "R = len(G)\n",
    "C = len(G[0])\n",
    "\n",
    "print(lines[:5])\n",
    "print(R, C)"
   ],
   "id": "368135bf9a7f6641",
   "outputs": [
    {
     "name": "stdout",
     "output_type": "stream",
     "text": [
      "['14567892107654348943218769016567650154541210421036\\n', '03456783298993267654309458122168743243450344323145\\n', '12567654456780154327812367433059804012769455410234\\n', '03498012349876065016901056544965418765898766708943\\n', '12345101212145076545411034545878329658981055899854\\n']\n",
      "50 51\n"
     ]
    }
   ],
   "execution_count": 37
  },
  {
   "metadata": {
    "ExecuteTime": {
     "end_time": "2024-12-10T06:04:32.634627Z",
     "start_time": "2024-12-10T06:04:32.618017Z"
    }
   },
   "cell_type": "code",
   "source": [
    "from collections import defaultdict\n",
    "\n",
    "G = [[int(x) if x != \".\" else None for x in line.strip()] for line in lines]\n",
    "R = len(G)\n",
    "C = len(G[0])\n",
    "\n",
    "possible_starts = []\n",
    "trailheads_p1 = defaultdict(set)\n",
    "trailheads_p2 = defaultdict(set)\n",
    "\n",
    "for r, row in enumerate(G):\n",
    "    for c, cell in enumerate(row):\n",
    "        if cell == 0:\n",
    "            possible_starts.append((r, c))\n",
    "\n",
    "\n",
    "def try_to_move(trail):\n",
    "\n",
    "    pos = trail[-1]\n",
    "    curr_val = G[pos[0]][pos[1]]\n",
    "\n",
    "    if curr_val == 9:\n",
    "        trailheads_p1[trail[0]].add(pos)\n",
    "        trailheads_p2[trail[0]].add(tuple(trail))\n",
    "        return 0\n",
    "\n",
    "    tests = []\n",
    "\n",
    "    for d in [(0, 1), (0, -1), (1, 0), (-1, 0)]:\n",
    "        new_pos = (pos[0] + d[0], pos[1] + d[1])\n",
    "        if 0 <= new_pos[0] < R and 0 <= new_pos[1] < C:\n",
    "            next_val = G[new_pos[0]][new_pos[1]]\n",
    "            if next_val == curr_val + 1:\n",
    "                tests.append(new_pos)\n",
    "    values = 0\n",
    "    for test in tests:\n",
    "        values += try_to_move(trail + [test])\n",
    "\n",
    "    return values\n",
    "\n",
    "\n",
    "for start in possible_starts:\n",
    "    current_pos = try_to_move([start])\n",
    "\n",
    "print(sum(len(x) for x in trailheads_p1.values()))\n",
    "print(sum(len(x) for x in trailheads_p2.values()))"
   ],
   "id": "78da9c20ee678bb3",
   "outputs": [
    {
     "name": "stdout",
     "output_type": "stream",
     "text": [
      "638\n",
      "1289\n"
     ]
    }
   ],
   "execution_count": 58
  }
 ],
 "metadata": {
  "kernelspec": {
   "display_name": "Python 3",
   "language": "python",
   "name": "python3"
  },
  "language_info": {
   "codemirror_mode": {
    "name": "ipython",
    "version": 2
   },
   "file_extension": ".py",
   "mimetype": "text/x-python",
   "name": "python",
   "nbconvert_exporter": "python",
   "pygments_lexer": "ipython2",
   "version": "2.7.6"
  }
 },
 "nbformat": 4,
 "nbformat_minor": 5
}
