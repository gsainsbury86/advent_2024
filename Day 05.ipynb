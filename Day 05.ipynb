{
 "cells": [
  {
   "cell_type": "code",
   "id": "initial_id",
   "metadata": {
    "collapsed": true,
    "ExecuteTime": {
     "end_time": "2024-12-05T05:16:15.957096Z",
     "start_time": "2024-12-05T05:16:15.212753Z"
    }
   },
   "source": [
    "import pathlib\n",
    "import requests\n",
    "\n",
    "year = 2024\n",
    "day = 5\n",
    "\n",
    "url = f\"https://adventofcode.com/{year}/day/{day}/input\"\n",
    "\n",
    "with open(\"cookie.txt\", \"r\") as file:\n",
    "    session = file.read()\n",
    "\n",
    "headers = {\"cookie\": f\"session={session}\"}\n",
    "\n",
    "pathlib.Path(\"inputs\").mkdir(parents=True, exist_ok=True)\n",
    "\n",
    "with open(f\"inputs/day_{str(day).zfill(2)}_input.txt\", \"wb\") as file:\n",
    "    file.write(requests.get(url, headers=headers).content)"
   ],
   "outputs": [],
   "execution_count": 41
  },
  {
   "metadata": {
    "ExecuteTime": {
     "end_time": "2024-12-05T05:30:33.616107Z",
     "start_time": "2024-12-05T05:30:33.610703Z"
    }
   },
   "cell_type": "code",
   "source": [
    "lines = [x for x in open(f\"inputs/day_{str(day).zfill(2)}_input.txt\", \"r\")]\n",
    "aoc = \"\".join(lines)\n",
    "print(lines[:5])"
   ],
   "id": "306bea4bf98d31c0",
   "outputs": [
    {
     "name": "stdout",
     "output_type": "stream",
     "text": [
      "['43|66\\n', '84|81\\n', '84|11\\n', '91|77\\n', '91|67\\n']\n"
     ]
    }
   ],
   "execution_count": 70
  },
  {
   "metadata": {
    "ExecuteTime": {
     "end_time": "2024-12-05T05:30:02.266462Z",
     "start_time": "2024-12-05T05:30:02.260479Z"
    }
   },
   "cell_type": "code",
   "source": [
    "lines = [x for x in open(f\"inputs/day_{str(day).zfill(2)}_test_input.txt\", \"r\")]\n",
    "aoc = \"\".join(lines)\n",
    "print(lines[:5])"
   ],
   "id": "73e1905935d99ec4",
   "outputs": [
    {
     "name": "stdout",
     "output_type": "stream",
     "text": [
      "['47|53\\n', '97|13\\n', '97|61\\n', '97|47\\n', '75|29\\n']\n"
     ]
    }
   ],
   "execution_count": 66
  },
  {
   "metadata": {
    "ExecuteTime": {
     "end_time": "2024-12-05T05:31:36.774151Z",
     "start_time": "2024-12-05T05:31:36.706669Z"
    }
   },
   "cell_type": "code",
   "source": [
    "splitter = lines.index(\"\\n\")\n",
    "\n",
    "rules = lines[:splitter]\n",
    "updates = lines[splitter + 1 :]\n",
    "\n",
    "n_rules = []\n",
    "for rule in rules:\n",
    "    x, y = rule.strip().split(\"|\")\n",
    "    n_rules.append((int(x), int(y)))\n",
    "\n",
    "ans = 0\n",
    "for update in updates:\n",
    "    n_update = [int(x) for x in update.strip().split(\",\")]\n",
    "    ok = True\n",
    "    for x, y in n_rules:\n",
    "        try:\n",
    "            x_i = n_update.index(x)\n",
    "        except:\n",
    "            x_i = None\n",
    "        try:\n",
    "            y_i = n_update.index(y)\n",
    "        except:\n",
    "            y_i = None\n",
    "        if x_i is not None and y_i is not None:\n",
    "            if x_i > y_i:\n",
    "                ok = False\n",
    "                break\n",
    "    if ok:\n",
    "        middle_page = n_update[len(n_update) // 2]\n",
    "        ans += middle_page\n",
    "print(ans)"
   ],
   "id": "b300fe1c0b33945c",
   "outputs": [
    {
     "name": "stdout",
     "output_type": "stream",
     "text": [
      "5129\n"
     ]
    }
   ],
   "execution_count": 73
  },
  {
   "metadata": {
    "ExecuteTime": {
     "end_time": "2024-12-05T05:31:59.031675Z",
     "start_time": "2024-12-05T05:31:58.771317Z"
    }
   },
   "cell_type": "code",
   "source": [
    "splitter = lines.index(\"\\n\")\n",
    "\n",
    "rules = lines[:splitter]\n",
    "updates = lines[splitter + 1 :]\n",
    "\n",
    "n_rules = []\n",
    "for rule in rules:\n",
    "    x, y = rule.strip().split(\"|\")\n",
    "    n_rules.append((int(x), int(y)))\n",
    "\n",
    "\n",
    "def test(n_update):\n",
    "    ok = True\n",
    "    for x, y in n_rules:\n",
    "        try:\n",
    "            x_i = n_update.index(x)\n",
    "        except:\n",
    "            x_i = None\n",
    "        try:\n",
    "            y_i = n_update.index(y)\n",
    "        except:\n",
    "            y_i = None\n",
    "        if x_i is not None and y_i is not None:\n",
    "            if x_i > y_i:\n",
    "                ok = False\n",
    "                break\n",
    "    return ok\n",
    "\n",
    "\n",
    "broken = []\n",
    "ans = 0\n",
    "for update in updates:\n",
    "    n_update = [int(x) for x in update.strip().split(\",\")]\n",
    "    ok = test(n_update)\n",
    "    if not ok:\n",
    "        broken.append(n_update)\n",
    "    if ok:\n",
    "        middle_page = n_update[len(n_update) // 2]\n",
    "        ans += middle_page\n",
    "\n",
    "ans = 0\n",
    "for b_update in broken:\n",
    "    b_fixed = b_update.copy()\n",
    "\n",
    "    while not test(b_fixed):\n",
    "        for x, y in n_rules:\n",
    "            try:\n",
    "                x_i = b_fixed.index(x)\n",
    "            except:\n",
    "                x_i = None\n",
    "            try:\n",
    "                y_i = b_fixed.index(y)\n",
    "            except:\n",
    "                y_i = None\n",
    "            if x_i is not None and y_i is not None:\n",
    "                if x_i > y_i:\n",
    "                    b_fixed[x_i] = y\n",
    "                    b_fixed[y_i] = x\n",
    "    middle_page = b_fixed[len(b_fixed) // 2]\n",
    "    ans += middle_page\n",
    "\n",
    "print(ans)"
   ],
   "id": "754ef8ddb7c7283c",
   "outputs": [
    {
     "name": "stdout",
     "output_type": "stream",
     "text": [
      "4077\n"
     ]
    }
   ],
   "execution_count": 74
  }
 ],
 "metadata": {
  "kernelspec": {
   "display_name": "Python 3",
   "language": "python",
   "name": "python3"
  },
  "language_info": {
   "codemirror_mode": {
    "name": "ipython",
    "version": 2
   },
   "file_extension": ".py",
   "mimetype": "text/x-python",
   "name": "python",
   "nbconvert_exporter": "python",
   "pygments_lexer": "ipython2",
   "version": "2.7.6"
  }
 },
 "nbformat": 4,
 "nbformat_minor": 5
}
